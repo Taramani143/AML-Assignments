{
  "nbformat": 4,
  "nbformat_minor": 0,
  "metadata": {
    "colab": {
      "provenance": [],
      "gpuType": "T4"
    },
    "kernelspec": {
      "name": "python3",
      "display_name": "Python 3"
    },
    "language_info": {
      "name": "python"
    },
    "accelerator": "GPU"
  },
  "cells": [
    {
      "cell_type": "markdown",
      "source": [
        "This group assignment done by:\n",
        "\n",
        "1.Nalla Janardhana Rao - MDS202426\n",
        "\n",
        "2.Pranav Pothan               - MDS202429\n",
        "\n",
        "3.Raja S  - MDS202430"
      ],
      "metadata": {
        "id": "S3vHZrhJaIIT"
      }
    },
    {
      "cell_type": "markdown",
      "source": [
        "Task 1: Classifier for notMNIST"
      ],
      "metadata": {
        "id": "vsL6Yc86V-NI"
      }
    },
    {
      "cell_type": "markdown",
      "source": [
        "Step 1 —  load the notMNIST dataset"
      ],
      "metadata": {
        "id": "SnVKjczWNFGK"
      }
    },
    {
      "cell_type": "code",
      "execution_count": null,
      "metadata": {
        "id": "rXPS9OwELasw"
      },
      "outputs": [],
      "source": [
        "!pip install -q datasets huggingface_hub"
      ]
    },
    {
      "cell_type": "code",
      "source": [
        "import numpy as np\n",
        "import matplotlib.pyplot as plt\n",
        "from datasets import load_dataset\n"
      ],
      "metadata": {
        "id": "KwjCj7jgNLFz"
      },
      "execution_count": null,
      "outputs": []
    },
    {
      "cell_type": "code",
      "source": [
        "ds = load_dataset(\"anubhavmaity/notMNIST\")"
      ],
      "metadata": {
        "id": "BC3itA2cNRym"
      },
      "execution_count": null,
      "outputs": []
    },
    {
      "cell_type": "code",
      "source": [
        "print(ds)\n",
        "print(\"Train size:\", len(ds[\"train\"]))\n",
        "print(\"Test size :\", len(ds[\"test\"]))\n",
        "print(\"Features:\", ds[\"train\"].features)\n"
      ],
      "metadata": {
        "colab": {
          "base_uri": "https://localhost:8080/"
        },
        "id": "55MT0BaVN78T",
        "outputId": "31c3a5cc-816d-48a0-e4a1-798818490034"
      },
      "execution_count": null,
      "outputs": [
        {
          "output_type": "stream",
          "name": "stdout",
          "text": [
            "DatasetDict({\n",
            "    train: Dataset({\n",
            "        features: ['image', 'label'],\n",
            "        num_rows: 14979\n",
            "    })\n",
            "    test: Dataset({\n",
            "        features: ['image', 'label'],\n",
            "        num_rows: 3745\n",
            "    })\n",
            "})\n",
            "Train size: 14979\n",
            "Test size : 3745\n",
            "Features: {'image': Image(mode=None, decode=True), 'label': ClassLabel(names=['A', 'B', 'C', 'D', 'E', 'F', 'G', 'H', 'I', 'J'])}\n"
          ]
        }
      ]
    },
    {
      "cell_type": "code",
      "source": [
        "fig, axes = plt.subplots(2, 5, figsize=(10,4))\n",
        "for i, ax in enumerate(axes.flatten()):\n",
        "    item = ds[\"train\"][i]\n",
        "    img = item[\"image\"]\n",
        "    lbl = item[\"label\"]\n",
        "    ax.imshow(img, cmap=\"gray\")\n",
        "    ax.set_title(chr(ord(\"A\")+int(lbl)))\n",
        "    ax.axis(\"off\")\n",
        "plt.tight_layout()\n",
        "plt.show()"
      ],
      "metadata": {
        "colab": {
          "base_uri": "https://localhost:8080/",
          "height": 277
        },
        "id": "X7PjYj3vP303",
        "outputId": "865b79c9-6cea-4a2b-b3f6-450a6735c40e"
      },
      "execution_count": null,
      "outputs": [
        {
          "output_type": "display_data",
          "data": {
            "text/plain": [
              "<Figure size 1000x400 with 10 Axes>"
            ],
            "image/png": "[encoded data removed]"
          },
          "metadata": {}
        }
      ]
    },
    {
      "cell_type": "code",
      "source": [
        "def dataset_to_arrays(dset):\n",
        "    images = np.stack([np.array(x[\"image\"]) for x in dset])   # shape (N, 28, 28)\n",
        "    labels = np.array(dset[\"label\"], dtype=np.int32)\n",
        "    return images, labels\n"
      ],
      "metadata": {
        "id": "w1WJcpOaP87I"
      },
      "execution_count": null,
      "outputs": []
    },
    {
      "cell_type": "code",
      "source": [
        "train_images, train_labels = dataset_to_arrays(ds[\"train\"])\n",
        "test_images, test_labels   = dataset_to_arrays(ds[\"test\"])\n"
      ],
      "metadata": {
        "id": "Afy1h4g8QNdL"
      },
      "execution_count": null,
      "outputs": []
    },
    {
      "cell_type": "code",
      "source": [
        "print(\"train_images.shape:\", train_images.shape, \"train_labels.shape:\", train_labels.shape)\n",
        "print(\"test_images.shape :\", test_images.shape, \"test_labels.shape :\", test_labels.shape)"
      ],
      "metadata": {
        "colab": {
          "base_uri": "https://localhost:8080/"
        },
        "id": "ESL7ifpqQR0p",
        "outputId": "c0b71d6c-95fd-4c6e-8f9f-a6a932b4ac6b"
      },
      "execution_count": null,
      "outputs": [
        {
          "output_type": "stream",
          "name": "stdout",
          "text": [
            "train_images.shape: (14979, 28, 28) train_labels.shape: (14979,)\n",
            "test_images.shape : (3745, 28, 28) test_labels.shape : (3745,)\n"
          ]
        }
      ]
    },
    {
      "cell_type": "markdown",
      "source": [
        "Step 2 : Preprocessing for CNN"
      ],
      "metadata": {
        "id": "eOxE6bwqQwLD"
      }
    },
    {
      "cell_type": "code",
      "source": [
        "import tensorflow as tf\n",
        "from tensorflow.keras.utils import to_categorical\n"
      ],
      "metadata": {
        "id": "7eiYI3TGQVS1"
      },
      "execution_count": null,
      "outputs": []
    },
    {
      "cell_type": "code",
      "source": [
        "# 1) Normalize images\n",
        "train_images = train_images.astype(\"float32\") / 255.0\n",
        "test_images  = test_images.astype(\"float32\") / 255.0"
      ],
      "metadata": {
        "id": "szfwU5PvQp51"
      },
      "execution_count": null,
      "outputs": []
    },
    {
      "cell_type": "code",
      "source": [
        "# 2) Add channel dimension (28,28) -> (28,28,1)\n",
        "train_images = np.expand_dims(train_images, -1)\n",
        "test_images  = np.expand_dims(test_images, -1)\n",
        "\n",
        "print(\"train_images shape:\", train_images.shape)\n",
        "print(\"test_images shape :\", test_images.shape)\n"
      ],
      "metadata": {
        "colab": {
          "base_uri": "https://localhost:8080/"
        },
        "id": "COKJf_oyQuFm",
        "outputId": "6db6a058-1aab-4967-d48c-3e00d9d3f1c3"
      },
      "execution_count": null,
      "outputs": [
        {
          "output_type": "stream",
          "name": "stdout",
          "text": [
            "train_images shape: (14979, 28, 28, 1, 1)\n",
            "test_images shape : (3745, 28, 28, 1, 1)\n"
          ]
        }
      ]
    },
    {
      "cell_type": "code",
      "source": [
        "# 3) One-hot encode labels (10 classes: A..J)\n",
        "num_classes = 10\n",
        "train_labels_cat = to_categorical(train_labels, num_classes)\n",
        "test_labels_cat  = to_categorical(test_labels, num_classes)\n",
        "\n",
        "print(\"train_labels_cat shape:\", train_labels_cat.shape)\n",
        "print(\"test_labels_cat shape :\", test_labels_cat.shape)"
      ],
      "metadata": {
        "colab": {
          "base_uri": "https://localhost:8080/"
        },
        "id": "zwwq6HhFQ7eu",
        "outputId": "9c067f8e-37fa-4f8b-d05d-f82b0eecfb4a"
      },
      "execution_count": null,
      "outputs": [
        {
          "output_type": "stream",
          "name": "stdout",
          "text": [
            "train_labels_cat shape: (14979, 10)\n",
            "test_labels_cat shape : (3745, 10)\n"
          ]
        }
      ]
    },
    {
      "cell_type": "markdown",
      "source": [
        "Step 3 — Define the CNN model"
      ],
      "metadata": {
        "id": "DMBfZoXlRO99"
      }
    },
    {
      "cell_type": "code",
      "source": [
        "from tensorflow.keras.models import Sequential\n",
        "from tensorflow.keras.layers import Conv2D, MaxPooling2D, Flatten, Dense, Dropout"
      ],
      "metadata": {
        "id": "AiP7DJcZRFfm"
      },
      "execution_count": null,
      "outputs": []
    },
    {
      "cell_type": "code",
      "source": [
        "model = Sequential([\n",
        "    Conv2D(32, (3,3), activation='relu', input_shape=(28,28,1)),\n",
        "    MaxPooling2D((2,2)),\n",
        "\n",
        "    Conv2D(64, (3,3), activation='relu'),\n",
        "    MaxPooling2D((2,2)),\n",
        "\n",
        "    Flatten(),\n",
        "    Dense(128, activation='relu'),\n",
        "    Dropout(0.5),   # helps prevent overfitting\n",
        "    Dense(10, activation='softmax')  # 10 classes (A..J)\n",
        "])"
      ],
      "metadata": {
        "colab": {
          "base_uri": "https://localhost:8080/"
        },
        "id": "wikcDyePRXtT",
        "outputId": "24ae6a2c-c422-4803-9c41-0176b8081f0f"
      },
      "execution_count": null,
      "outputs": [
        {
          "output_type": "stream",
          "name": "stderr",
          "text": [
            "/usr/local/lib/python3.12/dist-packages/keras/src/layers/convolutional/base_conv.py:113: UserWarning: Do not pass an `input_shape`/`input_dim` argument to a layer. When using Sequential models, prefer using an `Input(shape)` object as the first layer in the model instead.\n",
            "  super().__init__(activity_regularizer=activity_regularizer, **kwargs)\n"
          ]
        }
      ]
    },
    {
      "cell_type": "code",
      "source": [
        "model.compile(optimizer='adam',\n",
        "              loss='categorical_crossentropy',\n",
        "              metrics=['accuracy'])"
      ],
      "metadata": {
        "id": "fbnonx7oRmB9"
      },
      "execution_count": null,
      "outputs": []
    },
    {
      "cell_type": "code",
      "source": [
        "model.summary()"
      ],
      "metadata": {
        "colab": {
          "base_uri": "https://localhost:8080/",
          "height": 388
        },
        "id": "AuI2C2hzRuVY",
        "outputId": "8548c709-6fa0-4bdb-ec0a-fbc92ad98946"
      },
      "execution_count": null,
      "outputs": [
        {
          "output_type": "display_data",
          "data": {
            "text/plain": [
              "\u001b[1mModel: \"sequential\"\u001b[0m\n"
            ],
            "text/html": [
              "<pre style=\"white-space:pre;overflow-x:auto;line-height:normal;font-family:Menlo,'DejaVu Sans Mono',consolas,'Courier New',monospace\"><span style=\"font-weight: bold\">Model: \"sequential\"</span>\n",
              "</pre>\n"
            ]
          },
          "metadata": {}
        },
        {
          "output_type": "display_data",
          "data": {
            "text/plain": [
              "┏━━━━━━━━━━━━━━━━━━━━━━━━━━━━━━━━━┳━━━━━━━━━━━━━━━━━━━━━━━━┳━━━━━━━━━━━━━━━┓\n",
              "┃\u001b[1m \u001b[0m\u001b[1mLayer (type)                   \u001b[0m\u001b[1m \u001b[0m┃\u001b[1m \u001b[0m\u001b[1mOutput Shape          \u001b[0m\u001b[1m \u001b[0m┃\u001b[1m \u001b[0m\u001b[1m      Param #\u001b[0m\u001b[1m \u001b[0m┃\n",
              "┡━━━━━━━━━━━━━━━━━━━━━━━━━━━━━━━━━╇━━━━━━━━━━━━━━━━━━━━━━━━╇━━━━━━━━━━━━━━━┩\n",
              "│ conv2d (\u001b[38;5;33mConv2D\u001b[0m)                 │ (\u001b[38;5;45mNone\u001b[0m, \u001b[38;5;34m26\u001b[0m, \u001b[38;5;34m26\u001b[0m, \u001b[38;5;34m32\u001b[0m)     │           \u001b[38;5;34m320\u001b[0m │\n",
              "├─────────────────────────────────┼────────────────────────┼───────────────┤\n",
              "│ max_pooling2d (\u001b[38;5;33mMaxPooling2D\u001b[0m)    │ (\u001b[38;5;45mNone\u001b[0m, \u001b[38;5;34m13\u001b[0m, \u001b[38;5;34m13\u001b[0m, \u001b[38;5;34m32\u001b[0m)     │             \u001b[38;5;34m0\u001b[0m │\n",
              "├─────────────────────────────────┼────────────────────────┼───────────────┤\n",
              "│ conv2d_1 (\u001b[38;5;33mConv2D\u001b[0m)               │ (\u001b[38;5;45mNone\u001b[0m, \u001b[38;5;34m11\u001b[0m, \u001b[38;5;34m11\u001b[0m, \u001b[38;5;34m64\u001b[0m)     │        \u001b[38;5;34m18,496\u001b[0m │\n",
              "├─────────────────────────────────┼────────────────────────┼───────────────┤\n",
              "│ max_pooling2d_1 (\u001b[38;5;33mMaxPooling2D\u001b[0m)  │ (\u001b[38;5;45mNone\u001b[0m, \u001b[38;5;34m5\u001b[0m, \u001b[38;5;34m5\u001b[0m, \u001b[38;5;34m64\u001b[0m)       │             \u001b[38;5;34m0\u001b[0m │\n",
              "├─────────────────────────────────┼────────────────────────┼───────────────┤\n",
              "│ flatten (\u001b[38;5;33mFlatten\u001b[0m)               │ (\u001b[38;5;45mNone\u001b[0m, \u001b[38;5;34m1600\u001b[0m)           │             \u001b[38;5;34m0\u001b[0m │\n",
              "├─────────────────────────────────┼────────────────────────┼───────────────┤\n",
              "│ dense (\u001b[38;5;33mDense\u001b[0m)                   │ (\u001b[38;5;45mNone\u001b[0m, \u001b[38;5;34m128\u001b[0m)            │       \u001b[38;5;34m204,928\u001b[0m │\n",
              "├─────────────────────────────────┼────────────────────────┼───────────────┤\n",
              "│ dropout (\u001b[38;5;33mDropout\u001b[0m)               │ (\u001b[38;5;45mNone\u001b[0m, \u001b[38;5;34m128\u001b[0m)            │             \u001b[38;5;34m0\u001b[0m │\n",
              "├─────────────────────────────────┼────────────────────────┼───────────────┤\n",
              "│ dense_1 (\u001b[38;5;33mDense\u001b[0m)                 │ (\u001b[38;5;45mNone\u001b[0m, \u001b[38;5;34m10\u001b[0m)             │         \u001b[38;5;34m1,290\u001b[0m │\n",
              "└─────────────────────────────────┴────────────────────────┴───────────────┘\n"
            ],
            "text/html": [
              "<pre style=\"white-space:pre;overflow-x:auto;line-height:normal;font-family:Menlo,'DejaVu Sans Mono',consolas,'Courier New',monospace\">┏━━━━━━━━━━━━━━━━━━━━━━━━━━━━━━━━━┳━━━━━━━━━━━━━━━━━━━━━━━━┳━━━━━━━━━━━━━━━┓\n",
              "┃<span style=\"font-weight: bold\"> Layer (type)                    </span>┃<span style=\"font-weight: bold\"> Output Shape           </span>┃<span style=\"font-weight: bold\">       Param # </span>┃\n",
              "┡━━━━━━━━━━━━━━━━━━━━━━━━━━━━━━━━━╇━━━━━━━━━━━━━━━━━━━━━━━━╇━━━━━━━━━━━━━━━┩\n",
              "│ conv2d (<span style=\"color: #0087ff; text-decoration-color: #0087ff\">Conv2D</span>)                 │ (<span style=\"color: #00d7ff; text-decoration-color: #00d7ff\">None</span>, <span style=\"color: #00af00; text-decoration-color: #00af00\">26</span>, <span style=\"color: #00af00; text-decoration-color: #00af00\">26</span>, <span style=\"color: #00af00; text-decoration-color: #00af00\">32</span>)     │           <span style=\"color: #00af00; text-decoration-color: #00af00\">320</span> │\n",
              "├─────────────────────────────────┼────────────────────────┼───────────────┤\n",
              "│ max_pooling2d (<span style=\"color: #0087ff; text-decoration-color: #0087ff\">MaxPooling2D</span>)    │ (<span style=\"color: #00d7ff; text-decoration-color: #00d7ff\">None</span>, <span style=\"color: #00af00; text-decoration-color: #00af00\">13</span>, <span style=\"color: #00af00; text-decoration-color: #00af00\">13</span>, <span style=\"color: #00af00; text-decoration-color: #00af00\">32</span>)     │             <span style=\"color: #00af00; text-decoration-color: #00af00\">0</span> │\n",
              "├─────────────────────────────────┼────────────────────────┼───────────────┤\n",
              "│ conv2d_1 (<span style=\"color: #0087ff; text-decoration-color: #0087ff\">Conv2D</span>)               │ (<span style=\"color: #00d7ff; text-decoration-color: #00d7ff\">None</span>, <span style=\"color: #00af00; text-decoration-color: #00af00\">11</span>, <span style=\"color: #00af00; text-decoration-color: #00af00\">11</span>, <span style=\"color: #00af00; text-decoration-color: #00af00\">64</span>)     │        <span style=\"color: #00af00; text-decoration-color: #00af00\">18,496</span> │\n",
              "├─────────────────────────────────┼────────────────────────┼───────────────┤\n",
              "│ max_pooling2d_1 (<span style=\"color: #0087ff; text-decoration-color: #0087ff\">MaxPooling2D</span>)  │ (<span style=\"color: #00d7ff; text-decoration-color: #00d7ff\">None</span>, <span style=\"color: #00af00; text-decoration-color: #00af00\">5</span>, <span style=\"color: #00af00; text-decoration-color: #00af00\">5</span>, <span style=\"color: #00af00; text-decoration-color: #00af00\">64</span>)       │             <span style=\"color: #00af00; text-decoration-color: #00af00\">0</span> │\n",
              "├─────────────────────────────────┼────────────────────────┼───────────────┤\n",
              "│ flatten (<span style=\"color: #0087ff; text-decoration-color: #0087ff\">Flatten</span>)               │ (<span style=\"color: #00d7ff; text-decoration-color: #00d7ff\">None</span>, <span style=\"color: #00af00; text-decoration-color: #00af00\">1600</span>)           │             <span style=\"color: #00af00; text-decoration-color: #00af00\">0</span> │\n",
              "├─────────────────────────────────┼────────────────────────┼───────────────┤\n",
              "│ dense (<span style=\"color: #0087ff; text-decoration-color: #0087ff\">Dense</span>)                   │ (<span style=\"color: #00d7ff; text-decoration-color: #00d7ff\">None</span>, <span style=\"color: #00af00; text-decoration-color: #00af00\">128</span>)            │       <span style=\"color: #00af00; text-decoration-color: #00af00\">204,928</span> │\n",
              "├─────────────────────────────────┼────────────────────────┼───────────────┤\n",
              "│ dropout (<span style=\"color: #0087ff; text-decoration-color: #0087ff\">Dropout</span>)               │ (<span style=\"color: #00d7ff; text-decoration-color: #00d7ff\">None</span>, <span style=\"color: #00af00; text-decoration-color: #00af00\">128</span>)            │             <span style=\"color: #00af00; text-decoration-color: #00af00\">0</span> │\n",
              "├─────────────────────────────────┼────────────────────────┼───────────────┤\n",
              "│ dense_1 (<span style=\"color: #0087ff; text-decoration-color: #0087ff\">Dense</span>)                 │ (<span style=\"color: #00d7ff; text-decoration-color: #00d7ff\">None</span>, <span style=\"color: #00af00; text-decoration-color: #00af00\">10</span>)             │         <span style=\"color: #00af00; text-decoration-color: #00af00\">1,290</span> │\n",
              "└─────────────────────────────────┴────────────────────────┴───────────────┘\n",
              "</pre>\n"
            ]
          },
          "metadata": {}
        },
        {
          "output_type": "display_data",
          "data": {
            "text/plain": [
              "\u001b[1m Total params: \u001b[0m\u001b[38;5;34m225,034\u001b[0m (879.04 KB)\n"
            ],
            "text/html": [
              "<pre style=\"white-space:pre;overflow-x:auto;line-height:normal;font-family:Menlo,'DejaVu Sans Mono',consolas,'Courier New',monospace\"><span style=\"font-weight: bold\"> Total params: </span><span style=\"color: #00af00; text-decoration-color: #00af00\">225,034</span> (879.04 KB)\n",
              "</pre>\n"
            ]
          },
          "metadata": {}
        },
        {
          "output_type": "display_data",
          "data": {
            "text/plain": [
              "\u001b[1m Trainable params: \u001b[0m\u001b[38;5;34m225,034\u001b[0m (879.04 KB)\n"
            ],
            "text/html": [
              "<pre style=\"white-space:pre;overflow-x:auto;line-height:normal;font-family:Menlo,'DejaVu Sans Mono',consolas,'Courier New',monospace\"><span style=\"font-weight: bold\"> Trainable params: </span><span style=\"color: #00af00; text-decoration-color: #00af00\">225,034</span> (879.04 KB)\n",
              "</pre>\n"
            ]
          },
          "metadata": {}
        },
        {
          "output_type": "display_data",
          "data": {
            "text/plain": [
              "\u001b[1m Non-trainable params: \u001b[0m\u001b[38;5;34m0\u001b[0m (0.00 B)\n"
            ],
            "text/html": [
              "<pre style=\"white-space:pre;overflow-x:auto;line-height:normal;font-family:Menlo,'DejaVu Sans Mono',consolas,'Courier New',monospace\"><span style=\"font-weight: bold\"> Non-trainable params: </span><span style=\"color: #00af00; text-decoration-color: #00af00\">0</span> (0.00 B)\n",
              "</pre>\n"
            ]
          },
          "metadata": {}
        }
      ]
    },
    {
      "cell_type": "markdown",
      "source": [
        "Step 4 — Train & Evaluate the CNN"
      ],
      "metadata": {
        "id": "gzmalBTmSeHF"
      }
    },
    {
      "cell_type": "code",
      "source": [
        "# Train the model\n",
        "history = model.fit(\n",
        "    train_images, train_labels_cat,\n",
        "    epochs=20,\n",
        "    batch_size=128,\n",
        "    validation_data=(test_images, test_labels_cat),\n",
        "    verbose=2\n",
        ")"
      ],
      "metadata": {
        "colab": {
          "base_uri": "https://localhost:8080/"
        },
        "id": "f7seeEcsSg0L",
        "outputId": "9820b55b-9028-42ba-d875-f001edcc6905"
      },
      "execution_count": null,
      "outputs": [
        {
          "output_type": "stream",
          "name": "stdout",
          "text": [
            "Epoch 1/20\n",
            "118/118 - 1s - 6ms/step - accuracy: 0.9822 - loss: 0.0456 - val_accuracy: 0.9314 - val_loss: 0.3394\n",
            "Epoch 2/20\n",
            "118/118 - 1s - 5ms/step - accuracy: 0.9847 - loss: 0.0401 - val_accuracy: 0.9351 - val_loss: 0.3706\n",
            "Epoch 3/20\n",
            "118/118 - 1s - 5ms/step - accuracy: 0.9829 - loss: 0.0451 - val_accuracy: 0.9343 - val_loss: 0.3597\n",
            "Epoch 4/20\n",
            "118/118 - 1s - 5ms/step - accuracy: 0.9814 - loss: 0.0480 - val_accuracy: 0.9351 - val_loss: 0.3557\n",
            "Epoch 5/20\n",
            "118/118 - 1s - 5ms/step - accuracy: 0.9837 - loss: 0.0414 - val_accuracy: 0.9359 - val_loss: 0.3760\n",
            "Epoch 6/20\n",
            "118/118 - 1s - 5ms/step - accuracy: 0.9826 - loss: 0.0464 - val_accuracy: 0.9330 - val_loss: 0.3813\n",
            "Epoch 7/20\n",
            "118/118 - 1s - 11ms/step - accuracy: 0.9814 - loss: 0.0476 - val_accuracy: 0.9367 - val_loss: 0.3578\n",
            "Epoch 8/20\n",
            "118/118 - 1s - 5ms/step - accuracy: 0.9840 - loss: 0.0432 - val_accuracy: 0.9367 - val_loss: 0.3783\n",
            "Epoch 9/20\n",
            "118/118 - 1s - 5ms/step - accuracy: 0.9830 - loss: 0.0422 - val_accuracy: 0.9351 - val_loss: 0.3680\n",
            "Epoch 10/20\n",
            "118/118 - 1s - 5ms/step - accuracy: 0.9844 - loss: 0.0417 - val_accuracy: 0.9359 - val_loss: 0.3762\n",
            "Epoch 11/20\n",
            "118/118 - 1s - 5ms/step - accuracy: 0.9842 - loss: 0.0405 - val_accuracy: 0.9354 - val_loss: 0.3876\n",
            "Epoch 12/20\n",
            "118/118 - 1s - 5ms/step - accuracy: 0.9828 - loss: 0.0476 - val_accuracy: 0.9354 - val_loss: 0.3729\n",
            "Epoch 13/20\n",
            "118/118 - 1s - 5ms/step - accuracy: 0.9845 - loss: 0.0402 - val_accuracy: 0.9359 - val_loss: 0.3749\n",
            "Epoch 14/20\n",
            "118/118 - 1s - 5ms/step - accuracy: 0.9846 - loss: 0.0401 - val_accuracy: 0.9308 - val_loss: 0.3662\n",
            "Epoch 15/20\n",
            "118/118 - 1s - 5ms/step - accuracy: 0.9845 - loss: 0.0380 - val_accuracy: 0.9324 - val_loss: 0.3859\n",
            "Epoch 16/20\n",
            "118/118 - 1s - 5ms/step - accuracy: 0.9836 - loss: 0.0408 - val_accuracy: 0.9356 - val_loss: 0.3823\n",
            "Epoch 17/20\n",
            "118/118 - 1s - 5ms/step - accuracy: 0.9825 - loss: 0.0426 - val_accuracy: 0.9330 - val_loss: 0.4088\n",
            "Epoch 18/20\n",
            "118/118 - 1s - 5ms/step - accuracy: 0.9843 - loss: 0.0402 - val_accuracy: 0.9351 - val_loss: 0.4013\n",
            "Epoch 19/20\n",
            "118/118 - 1s - 5ms/step - accuracy: 0.9838 - loss: 0.0445 - val_accuracy: 0.9362 - val_loss: 0.3976\n",
            "Epoch 20/20\n",
            "118/118 - 1s - 5ms/step - accuracy: 0.9836 - loss: 0.0413 - val_accuracy: 0.9367 - val_loss: 0.3916\n"
          ]
        }
      ]
    },
    {
      "cell_type": "code",
      "source": [
        "# Evaluate on test set\n",
        "test_loss, test_acc = model.evaluate(test_images, test_labels_cat, verbose=0)\n",
        "print(f\"\\n Test Accuracy: {test_acc:.4f}\")\n",
        "print(f\" Test Loss    : {test_loss:.4f}\")"
      ],
      "metadata": {
        "colab": {
          "base_uri": "https://localhost:8080/"
        },
        "id": "VDL9P4yITAfk",
        "outputId": "25b5d4d3-4265-46ea-a925-5ec1d716da42"
      },
      "execution_count": null,
      "outputs": [
        {
          "output_type": "stream",
          "name": "stdout",
          "text": [
            "\n",
            " Test Accuracy: 0.9367\n",
            " Test Loss    : 0.3916\n"
          ]
        }
      ]
    },
    {
      "cell_type": "markdown",
      "source": [
        "Step 5 — Plot Training History"
      ],
      "metadata": {
        "id": "do0zeNEdSWht"
      }
    },
    {
      "cell_type": "code",
      "source": [
        "import matplotlib.pyplot as plt"
      ],
      "metadata": {
        "id": "p0YnAmJVSZZX"
      },
      "execution_count": null,
      "outputs": []
    },
    {
      "cell_type": "code",
      "source": [
        "# Accuracy plot\n",
        "plt.plot(history.history['accuracy'], label='Train Acc')\n",
        "plt.plot(history.history['val_accuracy'], label='Val Acc')\n",
        "plt.title(\"CNN Accuracy\")\n",
        "plt.xlabel(\"Epochs\")\n",
        "plt.ylabel(\"Accuracy\")\n",
        "plt.legend()\n",
        "plt.show()\n"
      ],
      "metadata": {
        "colab": {
          "base_uri": "https://localhost:8080/",
          "height": 472
        },
        "id": "2ROLuWEpRwPB",
        "outputId": "220d2282-0025-4522-e0ef-e1f228d4a856"
      },
      "execution_count": null,
      "outputs": [
        {
          "output_type": "display_data",
          "data": {
            "text/plain": [
              "<Figure size 640x480 with 1 Axes>"
            ],
            "image/png": "[encoded data removed]"
          },
          "metadata": {}
        }
      ]
    },
    {
      "cell_type": "code",
      "source": [
        "# Loss plot\n",
        "plt.plot(history.history['loss'], label='Train Loss')\n",
        "plt.plot(history.history['val_loss'], label='Val Loss')\n",
        "plt.title(\"CNN Loss\")\n",
        "plt.xlabel(\"Epochs\")\n",
        "plt.ylabel(\"Loss\")\n",
        "plt.legend()\n",
        "plt.show()"
      ],
      "metadata": {
        "colab": {
          "base_uri": "https://localhost:8080/",
          "height": 472
        },
        "id": "F3QqysFuSbm6",
        "outputId": "72951666-0fd7-426c-da9a-c46ba0299fe7"
      },
      "execution_count": null,
      "outputs": [
        {
          "output_type": "display_data",
          "data": {
            "text/plain": [
              "<Figure size 640x480 with 1 Axes>"
            ],
            "image/png": "[encoded data removed]"
          },
          "metadata": {}
        }
      ]
    },
    {
      "cell_type": "markdown",
      "source": [
        "Step 6 — Pixel Permutation Experiment"
      ],
      "metadata": {
        "id": "fylcYStPUeAy"
      }
    },
    {
      "cell_type": "code",
      "source": [
        "# 1) Create a fixed random permutation of pixel indices\n",
        "num_pixels = 28 * 28\n",
        "perm = np.random.permutation(num_pixels)\n"
      ],
      "metadata": {
        "id": "Oe0-JsSZUE4Y"
      },
      "execution_count": null,
      "outputs": []
    },
    {
      "cell_type": "code",
      "source": [
        "def permute_images(images):\n",
        "    # reshape to (N, 784), permute, then reshape back to (28,28,1)\n",
        "    N = images.shape[0]\n",
        "    flat = images.reshape(N, num_pixels)\n",
        "    flat_perm = flat[:, perm]\n",
        "    return flat_perm.reshape(N, 28, 28, 1)\n",
        "\n",
        "# Apply permutation\n",
        "train_images_perm = permute_images(train_images)\n",
        "test_images_perm  = permute_images(test_images)\n",
        "\n",
        "print(\"Original shape:\", train_images.shape, \"Permuted shape:\", train_images_perm.shape)"
      ],
      "metadata": {
        "colab": {
          "base_uri": "https://localhost:8080/"
        },
        "id": "kDwFIWOOUnOd",
        "outputId": "7dd3b577-ab8c-4ada-de80-b54ebec3ee5e"
      },
      "execution_count": null,
      "outputs": [
        {
          "output_type": "stream",
          "name": "stdout",
          "text": [
            "Original shape: (14979, 28, 28, 1, 1) Permuted shape: (14979, 28, 28, 1)\n"
          ]
        }
      ]
    },
    {
      "cell_type": "code",
      "source": [
        "# 2) Define the same CNN as before (simple model)\n",
        "perm_model = Sequential([\n",
        "    Conv2D(32, (3,3), activation='relu', input_shape=(28,28,1)),\n",
        "    MaxPooling2D((2,2)),\n",
        "    Conv2D(64, (3,3), activation='relu'),\n",
        "    MaxPooling2D((2,2)),\n",
        "    Flatten(),\n",
        "    Dense(128, activation='relu'),\n",
        "    Dropout(0.5),\n",
        "    Dense(10, activation='softmax')\n",
        "])"
      ],
      "metadata": {
        "id": "_1Ha8lF2UyI9"
      },
      "execution_count": null,
      "outputs": []
    },
    {
      "cell_type": "code",
      "source": [
        "perm_model.compile(optimizer='adam',\n",
        "                   loss='categorical_crossentropy',\n",
        "                   metrics=['accuracy'])"
      ],
      "metadata": {
        "id": "p0HZcCTXU6Ze"
      },
      "execution_count": null,
      "outputs": []
    },
    {
      "cell_type": "code",
      "source": [
        "# 3) Train on permuted dataset\n",
        "history_perm = perm_model.fit(\n",
        "    train_images_perm, train_labels_cat,\n",
        "    epochs=15,\n",
        "    batch_size=128,\n",
        "    validation_data=(test_images_perm, test_labels_cat),\n",
        "    verbose=2\n",
        ")"
      ],
      "metadata": {
        "colab": {
          "base_uri": "https://localhost:8080/"
        },
        "id": "3M1O-xs9U-uf",
        "outputId": "590c45fe-103c-4f5f-e270-4b0910bb6078"
      },
      "execution_count": null,
      "outputs": [
        {
          "output_type": "stream",
          "name": "stdout",
          "text": [
            "Epoch 1/15\n",
            "118/118 - 6s - 48ms/step - accuracy: 0.5376 - loss: 1.4626 - val_accuracy: 0.8182 - val_loss: 0.6510\n",
            "Epoch 2/15\n",
            "118/118 - 1s - 5ms/step - accuracy: 0.8230 - loss: 0.6310 - val_accuracy: 0.8753 - val_loss: 0.4407\n",
            "Epoch 3/15\n",
            "118/118 - 1s - 5ms/step - accuracy: 0.8550 - loss: 0.5105 - val_accuracy: 0.8903 - val_loss: 0.3964\n",
            "Epoch 4/15\n",
            "118/118 - 1s - 5ms/step - accuracy: 0.8738 - loss: 0.4416 - val_accuracy: 0.8977 - val_loss: 0.3638\n",
            "Epoch 5/15\n",
            "118/118 - 1s - 5ms/step - accuracy: 0.8808 - loss: 0.4141 - val_accuracy: 0.8972 - val_loss: 0.3413\n",
            "Epoch 6/15\n",
            "118/118 - 1s - 5ms/step - accuracy: 0.8959 - loss: 0.3626 - val_accuracy: 0.8967 - val_loss: 0.3375\n",
            "Epoch 7/15\n",
            "118/118 - 1s - 6ms/step - accuracy: 0.8985 - loss: 0.3391 - val_accuracy: 0.9031 - val_loss: 0.3257\n",
            "Epoch 8/15\n",
            "118/118 - 1s - 6ms/step - accuracy: 0.9110 - loss: 0.3024 - val_accuracy: 0.9017 - val_loss: 0.3162\n",
            "Epoch 9/15\n",
            "118/118 - 1s - 10ms/step - accuracy: 0.9168 - loss: 0.2729 - val_accuracy: 0.9060 - val_loss: 0.3045\n",
            "Epoch 10/15\n",
            "118/118 - 1s - 5ms/step - accuracy: 0.9238 - loss: 0.2526 - val_accuracy: 0.9057 - val_loss: 0.3043\n",
            "Epoch 11/15\n",
            "118/118 - 1s - 5ms/step - accuracy: 0.9230 - loss: 0.2483 - val_accuracy: 0.9073 - val_loss: 0.3001\n",
            "Epoch 12/15\n",
            "118/118 - 1s - 5ms/step - accuracy: 0.9117 - loss: 0.2784 - val_accuracy: 0.9073 - val_loss: 0.3009\n",
            "Epoch 13/15\n",
            "118/118 - 1s - 5ms/step - accuracy: 0.9288 - loss: 0.2325 - val_accuracy: 0.9076 - val_loss: 0.3050\n",
            "Epoch 14/15\n",
            "118/118 - 1s - 5ms/step - accuracy: 0.9363 - loss: 0.2042 - val_accuracy: 0.9079 - val_loss: 0.3074\n",
            "Epoch 15/15\n",
            "118/118 - 1s - 5ms/step - accuracy: 0.9415 - loss: 0.1850 - val_accuracy: 0.9081 - val_loss: 0.3040\n"
          ]
        }
      ]
    },
    {
      "cell_type": "markdown",
      "source": [
        "Step 7 —  Accuracy Comparison"
      ],
      "metadata": {
        "id": "dM7HXMwdVVbN"
      }
    },
    {
      "cell_type": "code",
      "source": [
        "import matplotlib.pyplot as plt\n",
        "\n",
        "plt.figure(figsize=(7,5))\n",
        "\n",
        "# Plot normal CNN validation accuracy\n",
        "plt.plot(history.history['val_accuracy'], label='Val Acc (Normal CNN)', linewidth=2)\n",
        "\n",
        "# Plot permuted CNN validation accuracy\n",
        "plt.plot(history_perm.history['val_accuracy'], label='Val Acc (Permuted CNN)', linewidth=2, linestyle='--')\n",
        "\n",
        "plt.title(\"Normal vs Permuted CNN Validation Accuracy\")\n",
        "plt.xlabel(\"Epochs\")\n",
        "plt.ylabel(\"Accuracy\")\n",
        "plt.legend()\n",
        "plt.grid(True)\n",
        "plt.show()\n"
      ],
      "metadata": {
        "colab": {
          "base_uri": "https://localhost:8080/",
          "height": 487
        },
        "id": "lPiK5pJrVYLT",
        "outputId": "c2f8a832-be69-491a-ac45-caf6071ec572"
      },
      "execution_count": null,
      "outputs": [
        {
          "output_type": "display_data",
          "data": {
            "text/plain": [
              "<Figure size 700x500 with 1 Axes>"
            ],
            "image/png": "[encoded data removed]"
          },
          "metadata": {}
        }
      ]
    },
    {
      "cell_type": "markdown",
      "source": [],
      "metadata": {
        "id": "9FuCVFrTPamy"
      }
    },
    {
      "cell_type": "markdown",
      "source": [],
      "metadata": {
        "id": "RAyMRoXKPZtB"
      }
    },
    {
      "cell_type": "markdown",
      "source": [
        "Task 2: Building a Resnet-18 classifier for the Emotion Detection Dataset\n"
      ],
      "metadata": {
        "id": "JeeCJ3IfWIzS"
      }
    },
    {
      "cell_type": "markdown",
      "source": [
        "Step 1: Kaggle setup & dataset download"
      ],
      "metadata": {
        "id": "_BEANR-q3ReU"
      }
    },
    {
      "cell_type": "code",
      "source": [
        "!pip install -q kaggle"
      ],
      "metadata": {
        "id": "m0dtly5GVnu3"
      },
      "execution_count": null,
      "outputs": []
    },
    {
      "cell_type": "code",
      "source": [
        "from google.colab import files\n",
        "uploaded = files.upload()"
      ],
      "metadata": {
        "colab": {
          "base_uri": "https://localhost:8080/",
          "height": 73
        },
        "id": "rAkI0kCm4IW2",
        "outputId": "ba8bf1be-ad66-4b8b-c6b3-cd9d2a69af43"
      },
      "execution_count": null,
      "outputs": [
        {
          "output_type": "display_data",
          "data": {
            "text/plain": [
              "<IPython.core.display.HTML object>"
            ],
            "text/html": [
              "\n",
              "     <input type=\"file\" id=\"files-40db6ac0-ff2f-4da8-a911-15d2e7cda30b\" name=\"files[]\" multiple disabled\n",
              "        style=\"border:none\" />\n",
              "     <output id=\"result-40db6ac0-ff2f-4da8-a911-15d2e7cda30b\">\n",
              "      Upload widget is only available when the cell has been executed in the\n",
              "      current browser session. Please rerun this cell to enable.\n",
              "      </output>\n",
              "      <script>// Copyright 2017 Google LLC\n",
              "//\n",
              "// Licensed under the Apache License, Version 2.0 (the \"License\");\n",
              "// you may not use this file except in compliance with the License.\n",
              "// You may obtain a copy of the License at\n",
              "//\n",
              "//      http://www.apache.org/licenses/LICENSE-2.0\n",
              "//\n",
              "// Unless required by applicable law or agreed to in writing, software\n",
              "// distributed under the License is distributed on an \"AS IS\" BASIS,\n",
              "// WITHOUT WARRANTIES OR CONDITIONS OF ANY KIND, either express or implied.\n",
              "// See the License for the specific language governing permissions and\n",
              "// limitations under the License.\n",
              "\n",
              "/**\n",
              " * @fileoverview Helpers for google.colab Python module.\n",
              " */\n",
              "(function(scope) {\n",
              "function span(text, styleAttributes = {}) {\n",
              "  const element = document.createElement('span');\n",
              "  element.textContent = text;\n",
              "  for (const key of Object.keys(styleAttributes)) {\n",
              "    element.style[key] = styleAttributes[key];\n",
              "  }\n",
              "  return element;\n",
              "}\n",
              "\n",
              "// Max number of bytes which will be uploaded at a time.\n",
              "const MAX_PAYLOAD_SIZE = 100 * 1024;\n",
              "\n",
              "function _uploadFiles(inputId, outputId) {\n",
              "  const steps = uploadFilesStep(inputId, outputId);\n",
              "  const outputElement = document.getElementById(outputId);\n",
              "  // Cache steps on the outputElement to make it available for the next call\n",
              "  // to uploadFilesContinue from Python.\n",
              "  outputElement.steps = steps;\n",
              "\n",
              "  return _uploadFilesContinue(outputId);\n",
              "}\n",
              "\n",
              "// This is roughly an async generator (not supported in the browser yet),\n",
              "// where there are multiple asynchronous steps and the Python side is going\n",
              "// to poll for completion of each step.\n",
              "// This uses a Promise to block the python side on completion of each step,\n",
              "// then passes the result of the previous step as the input to the next step.\n",
              "function _uploadFilesContinue(outputId) {\n",
              "  const outputElement = document.getElementById(outputId);\n",
              "  const steps = outputElement.steps;\n",
              "\n",
              "  const next = steps.next(outputElement.lastPromiseValue);\n",
              "  return Promise.resolve(next.value.promise).then((value) => {\n",
              "    // Cache the last promise value to make it available to the next\n",
              "    // step of the generator.\n",
              "    outputElement.lastPromiseValue = value;\n",
              "    return next.value.response;\n",
              "  });\n",
              "}\n",
              "\n",
              "/**\n",
              " * Generator function which is called between each async step of the upload\n",
              " * process.\n",
              " * @param {string} inputId Element ID of the input file picker element.\n",
              " * @param {string} outputId Element ID of the output display.\n",
              " * @return {!Iterable<!Object>} Iterable of next steps.\n",
              " */\n",
              "function* uploadFilesStep(inputId, outputId) {\n",
              "  const inputElement = document.getElementById(inputId);\n",
              "  inputElement.disabled = false;\n",
              "\n",
              "  const outputElement = document.getElementById(outputId);\n",
              "  outputElement.innerHTML = '';\n",
              "\n",
              "  const pickedPromise = new Promise((resolve) => {\n",
              "    inputElement.addEventListener('change', (e) => {\n",
              "      resolve(e.target.files);\n",
              "    });\n",
              "  });\n",
              "\n",
              "  const cancel = document.createElement('button');\n",
              "  inputElement.parentElement.appendChild(cancel);\n",
              "  cancel.textContent = 'Cancel upload';\n",
              "  const cancelPromise = new Promise((resolve) => {\n",
              "    cancel.onclick = () => {\n",
              "      resolve(null);\n",
              "    };\n",
              "  });\n",
              "\n",
              "  // Wait for the user to pick the files.\n",
              "  const files = yield {\n",
              "    promise: Promise.race([pickedPromise, cancelPromise]),\n",
              "    response: {\n",
              "      action: 'starting',\n",
              "    }\n",
              "  };\n",
              "\n",
              "  cancel.remove();\n",
              "\n",
              "  // Disable the input element since further picks are not allowed.\n",
              "  inputElement.disabled = true;\n",
              "\n",
              "  if (!files) {\n",
              "    return {\n",
              "      response: {\n",
              "        action: 'complete',\n",
              "      }\n",
              "    };\n",
              "  }\n",
              "\n",
              "  for (const file of files) {\n",
              "    const li = document.createElement('li');\n",
              "    li.append(span(file.name, {fontWeight: 'bold'}));\n",
              "    li.append(span(\n",
              "        `(${file.type || 'n/a'}) - ${file.size} bytes, ` +\n",
              "        `last modified: ${\n",
              "            file.lastModifiedDate ? file.lastModifiedDate.toLocaleDateString() :\n",
              "                                    'n/a'} - `));\n",
              "    const percent = span('0% done');\n",
              "    li.appendChild(percent);\n",
              "\n",
              "    outputElement.appendChild(li);\n",
              "\n",
              "    const fileDataPromise = new Promise((resolve) => {\n",
              "      const reader = new FileReader();\n",
              "      reader.onload = (e) => {\n",
              "        resolve(e.target.result);\n",
              "      };\n",
              "      reader.readAsArrayBuffer(file);\n",
              "    });\n",
              "    // Wait for the data to be ready.\n",
              "    let fileData = yield {\n",
              "      promise: fileDataPromise,\n",
              "      response: {\n",
              "        action: 'continue',\n",
              "      }\n",
              "    };\n",
              "\n",
              "    // Use a chunked sending to avoid message size limits. See b/62115660.\n",
              "    let position = 0;\n",
              "    do {\n",
              "      const length = Math.min(fileData.byteLength - position, MAX_PAYLOAD_SIZE);\n",
              "      const chunk = new Uint8Array(fileData, position, length);\n",
              "      position += length;\n",
              "\n",
              "      const base64 = btoa(String.fromCharCode.apply(null, chunk));\n",
              "      yield {\n",
              "        response: {\n",
              "          action: 'append',\n",
              "          file: file.name,\n",
              "          data: base64,\n",
              "        },\n",
              "      };\n",
              "\n",
              "      let percentDone = fileData.byteLength === 0 ?\n",
              "          100 :\n",
              "          Math.round((position / fileData.byteLength) * 100);\n",
              "      percent.textContent = `${percentDone}% done`;\n",
              "\n",
              "    } while (position < fileData.byteLength);\n",
              "  }\n",
              "\n",
              "  // All done.\n",
              "  yield {\n",
              "    response: {\n",
              "      action: 'complete',\n",
              "    }\n",
              "  };\n",
              "}\n",
              "\n",
              "scope.google = scope.google || {};\n",
              "scope.google.colab = scope.google.colab || {};\n",
              "scope.google.colab._files = {\n",
              "  _uploadFiles,\n",
              "  _uploadFilesContinue,\n",
              "};\n",
              "})(self);\n",
              "</script> "
            ]
          },
          "metadata": {}
        },
        {
          "output_type": "stream",
          "name": "stdout",
          "text": [
            "Saving kaggle.json to kaggle.json\n"
          ]
        }
      ]
    },
    {
      "cell_type": "code",
      "source": [
        "!mkdir -p ~/.kaggle\n",
        "!cp kaggle.json ~/.kaggle/\n",
        "!chmod 600 ~/.kaggle/kaggle.json\n"
      ],
      "metadata": {
        "id": "TObYKdXc4rHg"
      },
      "execution_count": null,
      "outputs": []
    },
    {
      "cell_type": "code",
      "source": [
        "!kaggle datasets download -d ananthu017/emotion-detection-fer -p /content --unzip"
      ],
      "metadata": {
        "colab": {
          "base_uri": "https://localhost:8080/"
        },
        "id": "_1gnYmjW4s-R",
        "outputId": "a37a3128-7970-40d5-c709-465cd538adde"
      },
      "execution_count": null,
      "outputs": [
        {
          "output_type": "stream",
          "name": "stdout",
          "text": [
            "Dataset URL: https://www.kaggle.com/datasets/ananthu017/emotion-detection-fer\n",
            "License(s): CC0-1.0\n",
            "Downloading emotion-detection-fer.zip to /content\n",
            "  0% 0.00/65.2M [00:00<?, ?B/s]\n",
            "100% 65.2M/65.2M [00:00<00:00, 1.68GB/s]\n"
          ]
        }
      ]
    },
    {
      "cell_type": "code",
      "source": [
        "# Check the contents after extraction\n",
        "!ls -la /content"
      ],
      "metadata": {
        "colab": {
          "base_uri": "https://localhost:8080/"
        },
        "id": "y873wVEZ4vnt",
        "outputId": "71913a30-f47a-4965-fb57-8d6e837ff59a"
      },
      "execution_count": null,
      "outputs": [
        {
          "output_type": "stream",
          "name": "stdout",
          "text": [
            "total 28\n",
            "drwxr-xr-x 1 root root 4096 Sep 26 17:02 .\n",
            "drwxr-xr-x 1 root root 4096 Sep 26 16:58 ..\n",
            "drwxr-xr-x 4 root root 4096 Sep 25 13:36 .config\n",
            "-rw-r--r-- 1 root root   68 Sep 26 17:02 kaggle.json\n",
            "drwxr-xr-x 1 root root 4096 Sep 25 13:37 sample_data\n",
            "drwxr-xr-x 9 root root 4096 Sep 26 17:02 test\n",
            "drwxr-xr-x 9 root root 4096 Sep 26 17:02 train\n"
          ]
        }
      ]
    },
    {
      "cell_type": "markdown",
      "source": [
        "Step 2: Imports, device setup, dataset paths check"
      ],
      "metadata": {
        "id": "_v1ZNnm55MqO"
      }
    },
    {
      "cell_type": "code",
      "source": [
        "import os, torch\n",
        "import torch.nn as nn\n",
        "import torch.optim as optim\n",
        "from torch.utils.data import DataLoader, random_split\n",
        "from torchvision import datasets, transforms, models\n"
      ],
      "metadata": {
        "id": "YugAeJyR43wK"
      },
      "execution_count": null,
      "outputs": []
    },
    {
      "cell_type": "code",
      "source": [
        "# Use GPU if available\n",
        "device = torch.device(\"cuda\" if torch.cuda.is_available() else \"cpu\")\n",
        "print(\"Device in use:\", device)"
      ],
      "metadata": {
        "colab": {
          "base_uri": "https://localhost:8080/"
        },
        "id": "wOruIljh5TPT",
        "outputId": "ef4571b4-6d54-479f-c73d-73fe9f019feb"
      },
      "execution_count": null,
      "outputs": [
        {
          "output_type": "stream",
          "name": "stdout",
          "text": [
            "Device in use: cuda\n"
          ]
        }
      ]
    },
    {
      "cell_type": "code",
      "source": [
        "# Paths to dataset\n",
        "DATA_ROOT = \"/content\"\n",
        "train_dir = os.path.join(DATA_ROOT, \"train\")\n",
        "test_dir  = os.path.join(DATA_ROOT, \"test\")"
      ],
      "metadata": {
        "id": "KMc0ceku5ZJw"
      },
      "execution_count": null,
      "outputs": []
    },
    {
      "cell_type": "code",
      "source": [
        "print(\"Train dir contains classes:\", os.listdir(train_dir))\n",
        "print(\"Test dir contains classes:\", os.listdir(test_dir))"
      ],
      "metadata": {
        "colab": {
          "base_uri": "https://localhost:8080/"
        },
        "id": "NgRJzjaS5eYt",
        "outputId": "b8ea5e36-f857-4c06-a1b2-88d8b6c6a944"
      },
      "execution_count": null,
      "outputs": [
        {
          "output_type": "stream",
          "name": "stdout",
          "text": [
            "Train dir contains classes: ['sad', 'disgusted', 'angry', 'neutral', 'fearful', 'surprised', 'happy']\n",
            "Test dir contains classes: ['sad', 'disgusted', 'angry', 'neutral', 'fearful', 'surprised', 'happy']\n"
          ]
        }
      ]
    },
    {
      "cell_type": "markdown",
      "source": [
        "Step 3: Transforms + Datasets + DataLoaders"
      ],
      "metadata": {
        "id": "-UxFx1Gd5s93"
      }
    },
    {
      "cell_type": "code",
      "source": [
        "from torchvision import transforms, datasets\n",
        "from torch.utils.data import DataLoader, random_split\n"
      ],
      "metadata": {
        "id": "TCd_viJc5gKj"
      },
      "execution_count": null,
      "outputs": []
    },
    {
      "cell_type": "code",
      "source": [
        "# Data transforms\n",
        "train_transform = transforms.Compose([\n",
        "    transforms.Lambda(lambda img: img.convert(\"RGB\")),  # convert grayscale → RGB\n",
        "    transforms.RandomResizedCrop(224),\n",
        "    transforms.RandomHorizontalFlip(),\n",
        "    transforms.ToTensor(),\n",
        "    transforms.Normalize(mean=[0.485, 0.456, 0.406],\n",
        "                         std=[0.229, 0.224, 0.225])\n",
        "])\n",
        "\n",
        "eval_transform = transforms.Compose([\n",
        "    transforms.Lambda(lambda img: img.convert(\"RGB\")),\n",
        "    transforms.Resize(256),\n",
        "    transforms.CenterCrop(224),\n",
        "    transforms.ToTensor(),\n",
        "    transforms.Normalize(mean=[0.485, 0.456, 0.406],\n",
        "                         std=[0.229, 0.224, 0.225])\n",
        "])"
      ],
      "metadata": {
        "id": "Py_iEScp6Utl"
      },
      "execution_count": null,
      "outputs": []
    },
    {
      "cell_type": "code",
      "source": [
        "# Load full training dataset first\n",
        "full_train_dataset = datasets.ImageFolder(train_dir, transform=train_transform)\n"
      ],
      "metadata": {
        "id": "7Q7w4GH8-x0V"
      },
      "execution_count": null,
      "outputs": []
    },
    {
      "cell_type": "code",
      "source": [
        "# Split into train/val (e.g., 80% / 20%)\n",
        "train_size = int(0.8 * len(full_train_dataset))\n",
        "val_size   = len(full_train_dataset) - train_size\n",
        "train_dataset, val_dataset = random_split(full_train_dataset, [train_size, val_size],\n",
        "                                          generator=torch.Generator().manual_seed(42))\n"
      ],
      "metadata": {
        "id": "fW5FFm1R-4RT"
      },
      "execution_count": null,
      "outputs": []
    },
    {
      "cell_type": "code",
      "source": [
        "# Apply eval_transform to validation dataset\n",
        "val_dataset.dataset.transform = eval_transform"
      ],
      "metadata": {
        "id": "DoE_ZyOk-7gl"
      },
      "execution_count": null,
      "outputs": []
    },
    {
      "cell_type": "code",
      "source": [
        "# Test dataset\n",
        "test_dataset = datasets.ImageFolder(test_dir, transform=eval_transform)"
      ],
      "metadata": {
        "id": "Askw2GU7_AGe"
      },
      "execution_count": null,
      "outputs": []
    },
    {
      "cell_type": "code",
      "source": [
        "# DataLoaders\n",
        "batch_size = 32\n",
        "train_loader = DataLoader(train_dataset, batch_size=batch_size, shuffle=True, num_workers=2, pin_memory=True)\n",
        "val_loader   = DataLoader(val_dataset, batch_size=batch_size, shuffle=False, num_workers=2, pin_memory=True)\n",
        "test_loader  = DataLoader(test_dataset, batch_size=batch_size, shuffle=False, num_workers=2, pin_memory=True)\n"
      ],
      "metadata": {
        "id": "kWEDNXPB_P9v"
      },
      "execution_count": null,
      "outputs": []
    },
    {
      "cell_type": "code",
      "source": [
        "# Class names\n",
        "classes = full_train_dataset.classes\n",
        "num_classes = len(classes)\n",
        "\n",
        "print(f\"Total images: Train={len(train_dataset)}, Val={len(val_dataset)}, Test={len(test_dataset)}\")\n",
        "print(\"Classes:\", classes)"
      ],
      "metadata": {
        "colab": {
          "base_uri": "https://localhost:8080/"
        },
        "id": "yhDJr26P_TSK",
        "outputId": "44c2c9b7-6b3b-472d-e2f8-73b886afc398"
      },
      "execution_count": null,
      "outputs": [
        {
          "output_type": "stream",
          "name": "stdout",
          "text": [
            "Total images: Train=22967, Val=5742, Test=7178\n",
            "Classes: ['angry', 'disgusted', 'fearful', 'happy', 'neutral', 'sad', 'surprised']\n"
          ]
        }
      ]
    },
    {
      "cell_type": "markdown",
      "source": [
        "Step 4: Build ResNet-18 (from scratch)"
      ],
      "metadata": {
        "id": "JFfpAr5H_kyO"
      }
    },
    {
      "cell_type": "code",
      "source": [
        "import torchvision.models as models\n",
        "import torch.nn as nn\n",
        "import torch.optim as optim"
      ],
      "metadata": {
        "id": "pIQcXbiK_WTA"
      },
      "execution_count": null,
      "outputs": []
    },
    {
      "cell_type": "code",
      "source": [
        "# Create ResNet-18 without pretrained weights (from scratch)\n",
        "try:\n",
        "    model_scratch = models.resnet18(weights=None)   # for newer torchvision\n",
        "except TypeError:\n",
        "    model_scratch = models.resnet18(pretrained=False)  # fallback for older versions"
      ],
      "metadata": {
        "id": "Cp35Z41h_nfv"
      },
      "execution_count": null,
      "outputs": []
    },
    {
      "cell_type": "code",
      "source": [
        "# Replace final fully connected layer with correct number of classes\n",
        "num_ftrs = model_scratch.fc.in_features\n",
        "model_scratch.fc = nn.Linear(num_ftrs, num_classes)"
      ],
      "metadata": {
        "id": "Yxt-bfPY_xyh"
      },
      "execution_count": null,
      "outputs": []
    },
    {
      "cell_type": "code",
      "source": [
        "# Move to GPU if available\n",
        "model_scratch = model_scratch.to(device)\n",
        "print(model_scratch)"
      ],
      "metadata": {
        "colab": {
          "base_uri": "https://localhost:8080/"
        },
        "id": "VEQSSjKJ_6cI",
        "outputId": "2726ee93-f7d8-4277-aaf7-af304e203327"
      },
      "execution_count": null,
      "outputs": [
        {
          "output_type": "stream",
          "name": "stdout",
          "text": [
            "ResNet(\n",
            "  (conv1): Conv2d(3, 64, kernel_size=(7, 7), stride=(2, 2), padding=(3, 3), bias=False)\n",
            "  (bn1): BatchNorm2d(64, eps=1e-05, momentum=0.1, affine=True, track_running_stats=True)\n",
            "  (relu): ReLU(inplace=True)\n",
            "  (maxpool): MaxPool2d(kernel_size=3, stride=2, padding=1, dilation=1, ceil_mode=False)\n",
            "  (layer1): Sequential(\n",
            "    (0): BasicBlock(\n",
            "      (conv1): Conv2d(64, 64, kernel_size=(3, 3), stride=(1, 1), padding=(1, 1), bias=False)\n",
            "      (bn1): BatchNorm2d(64, eps=1e-05, momentum=0.1, affine=True, track_running_stats=True)\n",
            "      (relu): ReLU(inplace=True)\n",
            "      (conv2): Conv2d(64, 64, kernel_size=(3, 3), stride=(1, 1), padding=(1, 1), bias=False)\n",
            "      (bn2): BatchNorm2d(64, eps=1e-05, momentum=0.1, affine=True, track_running_stats=True)\n",
            "    )\n",
            "    (1): BasicBlock(\n",
            "      (conv1): Conv2d(64, 64, kernel_size=(3, 3), stride=(1, 1), padding=(1, 1), bias=False)\n",
            "      (bn1): BatchNorm2d(64, eps=1e-05, momentum=0.1, affine=True, track_running_stats=True)\n",
            "      (relu): ReLU(inplace=True)\n",
            "      (conv2): Conv2d(64, 64, kernel_size=(3, 3), stride=(1, 1), padding=(1, 1), bias=False)\n",
            "      (bn2): BatchNorm2d(64, eps=1e-05, momentum=0.1, affine=True, track_running_stats=True)\n",
            "    )\n",
            "  )\n",
            "  (layer2): Sequential(\n",
            "    (0): BasicBlock(\n",
            "      (conv1): Conv2d(64, 128, kernel_size=(3, 3), stride=(2, 2), padding=(1, 1), bias=False)\n",
            "      (bn1): BatchNorm2d(128, eps=1e-05, momentum=0.1, affine=True, track_running_stats=True)\n",
            "      (relu): ReLU(inplace=True)\n",
            "      (conv2): Conv2d(128, 128, kernel_size=(3, 3), stride=(1, 1), padding=(1, 1), bias=False)\n",
            "      (bn2): BatchNorm2d(128, eps=1e-05, momentum=0.1, affine=True, track_running_stats=True)\n",
            "      (downsample): Sequential(\n",
            "        (0): Conv2d(64, 128, kernel_size=(1, 1), stride=(2, 2), bias=False)\n",
            "        (1): BatchNorm2d(128, eps=1e-05, momentum=0.1, affine=True, track_running_stats=True)\n",
            "      )\n",
            "    )\n",
            "    (1): BasicBlock(\n",
            "      (conv1): Conv2d(128, 128, kernel_size=(3, 3), stride=(1, 1), padding=(1, 1), bias=False)\n",
            "      (bn1): BatchNorm2d(128, eps=1e-05, momentum=0.1, affine=True, track_running_stats=True)\n",
            "      (relu): ReLU(inplace=True)\n",
            "      (conv2): Conv2d(128, 128, kernel_size=(3, 3), stride=(1, 1), padding=(1, 1), bias=False)\n",
            "      (bn2): BatchNorm2d(128, eps=1e-05, momentum=0.1, affine=True, track_running_stats=True)\n",
            "    )\n",
            "  )\n",
            "  (layer3): Sequential(\n",
            "    (0): BasicBlock(\n",
            "      (conv1): Conv2d(128, 256, kernel_size=(3, 3), stride=(2, 2), padding=(1, 1), bias=False)\n",
            "      (bn1): BatchNorm2d(256, eps=1e-05, momentum=0.1, affine=True, track_running_stats=True)\n",
            "      (relu): ReLU(inplace=True)\n",
            "      (conv2): Conv2d(256, 256, kernel_size=(3, 3), stride=(1, 1), padding=(1, 1), bias=False)\n",
            "      (bn2): BatchNorm2d(256, eps=1e-05, momentum=0.1, affine=True, track_running_stats=True)\n",
            "      (downsample): Sequential(\n",
            "        (0): Conv2d(128, 256, kernel_size=(1, 1), stride=(2, 2), bias=False)\n",
            "        (1): BatchNorm2d(256, eps=1e-05, momentum=0.1, affine=True, track_running_stats=True)\n",
            "      )\n",
            "    )\n",
            "    (1): BasicBlock(\n",
            "      (conv1): Conv2d(256, 256, kernel_size=(3, 3), stride=(1, 1), padding=(1, 1), bias=False)\n",
            "      (bn1): BatchNorm2d(256, eps=1e-05, momentum=0.1, affine=True, track_running_stats=True)\n",
            "      (relu): ReLU(inplace=True)\n",
            "      (conv2): Conv2d(256, 256, kernel_size=(3, 3), stride=(1, 1), padding=(1, 1), bias=False)\n",
            "      (bn2): BatchNorm2d(256, eps=1e-05, momentum=0.1, affine=True, track_running_stats=True)\n",
            "    )\n",
            "  )\n",
            "  (layer4): Sequential(\n",
            "    (0): BasicBlock(\n",
            "      (conv1): Conv2d(256, 512, kernel_size=(3, 3), stride=(2, 2), padding=(1, 1), bias=False)\n",
            "      (bn1): BatchNorm2d(512, eps=1e-05, momentum=0.1, affine=True, track_running_stats=True)\n",
            "      (relu): ReLU(inplace=True)\n",
            "      (conv2): Conv2d(512, 512, kernel_size=(3, 3), stride=(1, 1), padding=(1, 1), bias=False)\n",
            "      (bn2): BatchNorm2d(512, eps=1e-05, momentum=0.1, affine=True, track_running_stats=True)\n",
            "      (downsample): Sequential(\n",
            "        (0): Conv2d(256, 512, kernel_size=(1, 1), stride=(2, 2), bias=False)\n",
            "        (1): BatchNorm2d(512, eps=1e-05, momentum=0.1, affine=True, track_running_stats=True)\n",
            "      )\n",
            "    )\n",
            "    (1): BasicBlock(\n",
            "      (conv1): Conv2d(512, 512, kernel_size=(3, 3), stride=(1, 1), padding=(1, 1), bias=False)\n",
            "      (bn1): BatchNorm2d(512, eps=1e-05, momentum=0.1, affine=True, track_running_stats=True)\n",
            "      (relu): ReLU(inplace=True)\n",
            "      (conv2): Conv2d(512, 512, kernel_size=(3, 3), stride=(1, 1), padding=(1, 1), bias=False)\n",
            "      (bn2): BatchNorm2d(512, eps=1e-05, momentum=0.1, affine=True, track_running_stats=True)\n",
            "    )\n",
            "  )\n",
            "  (avgpool): AdaptiveAvgPool2d(output_size=(1, 1))\n",
            "  (fc): Linear(in_features=512, out_features=7, bias=True)\n",
            ")\n"
          ]
        }
      ]
    },
    {
      "cell_type": "code",
      "source": [
        "# Define loss, optimizer, scheduler\n",
        "criterion = nn.CrossEntropyLoss()\n",
        "optimizer = optim.SGD(model_scratch.parameters(),\n",
        "                      lr=0.01, momentum=0.9, weight_decay=1e-4)\n",
        "scheduler = optim.lr_scheduler.StepLR(optimizer, step_size=7, gamma=0.1)"
      ],
      "metadata": {
        "id": "jynlilwi_8lb"
      },
      "execution_count": null,
      "outputs": []
    },
    {
      "cell_type": "code",
      "source": [
        "# Function to count trainable parameters\n",
        "def count_parameters(model):\n",
        "    return sum(p.numel() for p in model.parameters() if p.requires_grad)\n",
        "\n",
        "print(\"Trainable parameters (scratch model):\", count_parameters(model_scratch))"
      ],
      "metadata": {
        "colab": {
          "base_uri": "https://localhost:8080/"
        },
        "id": "JIvkkGwQAITf",
        "outputId": "d8ac36db-f176-4938-d79e-86ce7ce7d7e6"
      },
      "execution_count": null,
      "outputs": [
        {
          "output_type": "stream",
          "name": "stdout",
          "text": [
            "Trainable parameters (scratch model): 11180103\n"
          ]
        }
      ]
    },
    {
      "cell_type": "markdown",
      "source": [
        "Step 5: Training & Validation Loop for the scratch model."
      ],
      "metadata": {
        "id": "MITGcS1LAkIu"
      }
    },
    {
      "cell_type": "code",
      "source": [
        "import time\n",
        "import copy"
      ],
      "metadata": {
        "id": "0h74ncCmAKp3"
      },
      "execution_count": null,
      "outputs": []
    },
    {
      "cell_type": "code",
      "source": [
        "def train_model(model, criterion, optimizer, scheduler, num_epochs=15):\n",
        "    since = time.time()\n",
        "\n",
        "    best_model_wts = copy.deepcopy(model.state_dict())\n",
        "    best_acc = 0.0\n",
        "    train_loss_history, val_loss_history = [], []\n",
        "    train_acc_history, val_acc_history = [], []\n",
        "\n",
        "    for epoch in range(num_epochs):\n",
        "        print(f\"Epoch {epoch+1}/{num_epochs}\")\n",
        "        print(\"-\" * 20)\n",
        "\n",
        "        # Each epoch has training and validation phase\n",
        "        for phase in ['train', 'val']:\n",
        "            if phase == 'train':\n",
        "                model.train()\n",
        "                dataloader = train_loader\n",
        "            else:\n",
        "                model.eval()\n",
        "                dataloader = val_loader\n",
        "\n",
        "            running_loss = 0.0\n",
        "            running_corrects = 0\n",
        "\n",
        "            # Iterate over data\n",
        "            for inputs, labels in dataloader:\n",
        "                inputs = inputs.to(device)\n",
        "                labels = labels.to(device)\n",
        "\n",
        "                optimizer.zero_grad()\n",
        "\n",
        "                with torch.set_grad_enabled(phase == 'train'):\n",
        "                    outputs = model(inputs)\n",
        "                    _, preds = torch.max(outputs, 1)\n",
        "                    loss = criterion(outputs, labels)\n",
        "\n",
        "                    if phase == 'train':\n",
        "                        loss.backward()\n",
        "                        optimizer.step()\n",
        "\n",
        "                running_loss += loss.item() * inputs.size(0)\n",
        "                running_corrects += torch.sum(preds == labels.data)\n",
        "\n",
        "            epoch_loss = running_loss / len(dataloader.dataset)\n",
        "            epoch_acc = running_corrects.double() / len(dataloader.dataset)\n",
        "\n",
        "            if phase == 'train':\n",
        "                scheduler.step()\n",
        "                train_loss_history.append(epoch_loss)\n",
        "                train_acc_history.append(epoch_acc.item())\n",
        "            else:\n",
        "                val_loss_history.append(epoch_loss)\n",
        "                val_acc_history.append(epoch_acc.item())\n",
        "\n",
        "            print(f\"{phase} Loss: {epoch_loss:.4f} Acc: {epoch_acc:.4f}\")\n",
        "\n",
        "            # deep copy best model\n",
        "            if phase == 'val' and epoch_acc > best_acc:\n",
        "                best_acc = epoch_acc\n",
        "                best_model_wts = copy.deepcopy(model.state_dict())\n",
        "\n",
        "        print()\n",
        "\n",
        "    time_elapsed = time.time() - since\n",
        "    print(f\"Training complete in {time_elapsed//60:.0f}m {time_elapsed%60:.0f}s\")\n",
        "    print(f\"Best val Acc: {best_acc:.4f}\")\n",
        "\n",
        "    # load best model weights\n",
        "    model.load_state_dict(best_model_wts)\n",
        "    return model, (train_loss_history, val_loss_history, train_acc_history, val_acc_history)\n",
        "\n",
        "# Train the scratch model\n",
        "model_scratch, history_scratch = train_model(model_scratch, criterion, optimizer, scheduler, num_epochs=15)"
      ],
      "metadata": {
        "colab": {
          "base_uri": "https://localhost:8080/"
        },
        "id": "g2FhlahFAmxl",
        "outputId": "61400249-06a6-4d09-cb47-dda9a903f574"
      },
      "execution_count": null,
      "outputs": [
        {
          "output_type": "stream",
          "name": "stdout",
          "text": [
            "Epoch 1/15\n",
            "--------------------\n",
            "train Loss: 1.7994 Acc: 0.2811\n",
            "val Loss: 1.5643 Acc: 0.3918\n",
            "\n",
            "Epoch 2/15\n",
            "--------------------\n",
            "train Loss: 1.4877 Acc: 0.4283\n",
            "val Loss: 1.5471 Acc: 0.3842\n",
            "\n",
            "Epoch 3/15\n",
            "--------------------\n",
            "train Loss: 1.3151 Acc: 0.4992\n",
            "val Loss: 1.4393 Acc: 0.4916\n",
            "\n",
            "Epoch 4/15\n",
            "--------------------\n",
            "train Loss: 1.1793 Acc: 0.5533\n",
            "val Loss: 1.4396 Acc: 0.4794\n",
            "\n",
            "Epoch 5/15\n",
            "--------------------\n",
            "train Loss: 1.0715 Acc: 0.5986\n",
            "val Loss: 1.1905 Acc: 0.5522\n",
            "\n",
            "Epoch 6/15\n",
            "--------------------\n",
            "train Loss: 0.9548 Acc: 0.6414\n",
            "val Loss: 1.4177 Acc: 0.5003\n",
            "\n",
            "Epoch 7/15\n",
            "--------------------\n",
            "train Loss: 0.8237 Acc: 0.6930\n",
            "val Loss: 1.4127 Acc: 0.5378\n",
            "\n",
            "Epoch 8/15\n",
            "--------------------\n",
            "train Loss: 0.3803 Acc: 0.8772\n",
            "val Loss: 1.2320 Acc: 0.6029\n",
            "\n",
            "Epoch 9/15\n",
            "--------------------\n",
            "train Loss: 0.2012 Acc: 0.9456\n",
            "val Loss: 1.3504 Acc: 0.6041\n",
            "\n",
            "Epoch 10/15\n",
            "--------------------\n",
            "train Loss: 0.1171 Acc: 0.9743\n",
            "val Loss: 1.4687 Acc: 0.5993\n",
            "\n",
            "Epoch 11/15\n",
            "--------------------\n",
            "train Loss: 0.0662 Acc: 0.9896\n",
            "val Loss: 1.5794 Acc: 0.5921\n",
            "\n",
            "Epoch 12/15\n",
            "--------------------\n",
            "train Loss: 0.0455 Acc: 0.9946\n",
            "val Loss: 1.6433 Acc: 0.5965\n",
            "\n",
            "Epoch 13/15\n",
            "--------------------\n",
            "train Loss: 0.0339 Acc: 0.9965\n",
            "val Loss: 1.6863 Acc: 0.5942\n",
            "\n",
            "Epoch 14/15\n",
            "--------------------\n",
            "train Loss: 0.0283 Acc: 0.9965\n",
            "val Loss: 1.7326 Acc: 0.5980\n",
            "\n",
            "Epoch 15/15\n",
            "--------------------\n",
            "train Loss: 0.0201 Acc: 0.9981\n",
            "val Loss: 1.7285 Acc: 0.6017\n",
            "\n",
            "Training complete in 21m 9s\n",
            "Best val Acc: 0.6041\n"
          ]
        }
      ]
    },
    {
      "cell_type": "markdown",
      "source": [
        "Step 6: Evaluate on test set + Plot curves + Confusion Matrix."
      ],
      "metadata": {
        "id": "l2PCGqEMGRjl"
      }
    },
    {
      "cell_type": "code",
      "source": [
        "import matplotlib.pyplot as plt\n",
        "import numpy as np\n",
        "from sklearn.metrics import classification_report, confusion_matrix\n",
        "import seaborn as sns"
      ],
      "metadata": {
        "id": "6XtlyT-wA31H"
      },
      "execution_count": null,
      "outputs": []
    },
    {
      "cell_type": "code",
      "source": [
        "model_scratch.eval()\n",
        "test_loss = 0.0\n",
        "corrects = 0\n",
        "all_preds = []\n",
        "all_labels = []\n",
        "\n",
        "with torch.no_grad():\n",
        "    for inputs, labels in test_loader:\n",
        "        inputs = inputs.to(device)\n",
        "        labels = labels.to(device)\n",
        "        outputs = model_scratch(inputs)\n",
        "        _, preds = torch.max(outputs, 1)\n",
        "        loss = criterion(outputs, labels)\n",
        "\n",
        "        test_loss += loss.item() * inputs.size(0)\n",
        "        corrects += torch.sum(preds == labels.data)\n",
        "\n",
        "        all_preds.extend(preds.cpu().numpy())\n",
        "        all_labels.extend(labels.cpu().numpy())\n",
        "\n",
        "test_loss /= len(test_loader.dataset)\n",
        "test_acc = corrects.double() / len(test_loader.dataset)\n",
        "\n",
        "print(f\"Test Loss: {test_loss:.4f}  Test Acc: {test_acc:.4f}\")"
      ],
      "metadata": {
        "colab": {
          "base_uri": "https://localhost:8080/"
        },
        "id": "XIvRzbaoGUTN",
        "outputId": "5d3bf054-d481-46fd-8c7c-f32c10148afe"
      },
      "execution_count": null,
      "outputs": [
        {
          "output_type": "stream",
          "name": "stdout",
          "text": [
            "Test Loss: 1.3704  Test Acc: 0.5913\n"
          ]
        }
      ]
    },
    {
      "cell_type": "code",
      "source": [
        "# ---- Classification Report ----\n",
        "print(\"\\nClassification Report:\")\n",
        "print(classification_report(all_labels, all_preds, target_names=classes))\n"
      ],
      "metadata": {
        "colab": {
          "base_uri": "https://localhost:8080/"
        },
        "id": "vAu3VMpZGawn",
        "outputId": "ca2ec057-7e5a-4fb1-e50c-d8250ea99672"
      },
      "execution_count": null,
      "outputs": [
        {
          "output_type": "stream",
          "name": "stdout",
          "text": [
            "\n",
            "Classification Report:\n",
            "              precision    recall  f1-score   support\n",
            "\n",
            "       angry       0.50      0.50      0.50       958\n",
            "   disgusted       0.81      0.39      0.52       111\n",
            "     fearful       0.48      0.32      0.39      1024\n",
            "       happy       0.77      0.84      0.80      1774\n",
            "     neutral       0.54      0.52      0.53      1233\n",
            "         sad       0.42      0.53      0.47      1247\n",
            "   surprised       0.76      0.73      0.74       831\n",
            "\n",
            "    accuracy                           0.59      7178\n",
            "   macro avg       0.61      0.55      0.57      7178\n",
            "weighted avg       0.59      0.59      0.59      7178\n",
            "\n"
          ]
        }
      ]
    },
    {
      "cell_type": "code",
      "source": [
        "# ---- Confusion Matrix ----\n",
        "cm = confusion_matrix(all_labels, all_preds)\n",
        "plt.figure(figsize=(8,6))\n",
        "sns.heatmap(cm, annot=True, fmt=\"d\", cmap=\"Blues\",\n",
        "            xticklabels=classes, yticklabels=classes)\n",
        "plt.ylabel(\"True Label\")\n",
        "plt.xlabel(\"Predicted Label\")\n",
        "plt.title(\"Confusion Matrix - ResNet18 (Scratch)\")\n",
        "plt.show()"
      ],
      "metadata": {
        "colab": {
          "base_uri": "https://localhost:8080/",
          "height": 549
        },
        "id": "_eoPqWwfGjSM",
        "outputId": "22d5399d-eace-4791-a752-bf16f8319e87"
      },
      "execution_count": null,
      "outputs": [
        {
          "output_type": "display_data",
          "data": {
            "text/plain": [
              "<Figure size 800x600 with 2 Axes>"
            ],
            "image/png": "[encoded data removed]"
          },
          "metadata": {}
        }
      ]
    },
    {
      "cell_type": "code",
      "source": [
        "# ---- Plot Accuracy/Loss Curves ----\n",
        "train_loss, val_loss, train_acc, val_acc = history_scratch\n",
        "\n",
        "epochs = range(1, len(train_loss)+1)\n",
        "\n",
        "plt.figure(figsize=(12,5))\n",
        "\n",
        "plt.subplot(1,2,1)\n",
        "plt.plot(epochs, train_loss, label=\"Train Loss\")\n",
        "plt.plot(epochs, val_loss, label=\"Val Loss\")\n",
        "plt.xlabel(\"Epochs\")\n",
        "plt.ylabel(\"Loss\")\n",
        "plt.title(\"Loss Curve\")\n",
        "plt.legend()\n",
        "\n",
        "plt.subplot(1,2,2)\n",
        "plt.plot(epochs, train_acc, label=\"Train Acc\")\n",
        "plt.plot(epochs, val_acc, label=\"Val Acc\")\n",
        "plt.xlabel(\"Epochs\")\n",
        "plt.ylabel(\"Accuracy\")\n",
        "plt.title(\"Accuracy Curve\")\n",
        "plt.legend()\n",
        "\n",
        "plt.show()"
      ],
      "metadata": {
        "colab": {
          "base_uri": "https://localhost:8080/",
          "height": 315
        },
        "id": "AuNPmKN8Gn4G",
        "outputId": "c607e3b9-189e-40c5-ee01-0a2d703eabbe"
      },
      "execution_count": null,
      "outputs": [
        {
          "output_type": "display_data",
          "data": {
            "text/plain": [
              "<Figure size 1200x500 with 2 Axes>"
            ],
            "image/png": "[encoded data removed]"
          },
          "metadata": {}
        }
      ]
    },
    {
      "cell_type": "markdown",
      "source": [
        "Step 7: Fine-tuning a pretrained ResNet-18."
      ],
      "metadata": {
        "id": "Nb08T-CZHzfr"
      }
    },
    {
      "cell_type": "code",
      "source": [
        "def build_pretrained_model(freeze_layers=[]):\n",
        "    \"\"\"\n",
        "    freeze_layers: list of layer names to freeze, e.g. ['layer1', 'layer2']\n",
        "    \"\"\"\n",
        "    try:\n",
        "        model = models.resnet18(weights=models.ResNet18_Weights.IMAGENET1K_V1)\n",
        "    except:\n",
        "        model = models.resnet18(pretrained=True)\n",
        "\n",
        "    # Freeze specified layers\n",
        "    for lname in freeze_layers:\n",
        "        layer = getattr(model, lname)\n",
        "        for param in layer.parameters():\n",
        "            param.requires_grad = False\n",
        "\n",
        "    # Replace final layer\n",
        "    num_ftrs = model.fc.in_features\n",
        "    model.fc = nn.Linear(num_ftrs, num_classes)\n",
        "    return model.to(device)"
      ],
      "metadata": {
        "id": "3_l4vGCCGtY4"
      },
      "execution_count": null,
      "outputs": []
    },
    {
      "cell_type": "code",
      "source": [
        "results_log = {}   # key = model_name, value = dict with val_acc, test_acc\n",
        "\n",
        "def evaluate_on_test(model, model_name):\n",
        "    \"\"\"Evaluate a trained model on the test set and log results.\"\"\"\n",
        "    model.eval()\n",
        "    corrects = 0\n",
        "    total = 0\n",
        "    with torch.no_grad():\n",
        "        for inputs, labels in test_loader:\n",
        "            inputs, labels = inputs.to(device), labels.to(device)\n",
        "            outputs = model(inputs)\n",
        "            _, preds = torch.max(outputs, 1)\n",
        "            corrects += torch.sum(preds == labels).item()\n",
        "            total += labels.size(0)\n",
        "    test_acc = corrects / total\n",
        "    print(f\"{model_name} -> Test Accuracy: {test_acc:.4f}\")\n",
        "    return test_acc\n",
        "\n",
        "# ----------------- Experiment 1 -----------------\n",
        "print(\"Experiment 1: Freeze layer1 only\")\n",
        "\n",
        "model_ft1 = build_pretrained_model(freeze_layers=['layer1'])\n",
        "criterion = nn.CrossEntropyLoss()\n",
        "optimizer_ft1 = optim.Adam(filter(lambda p: p.requires_grad, model_ft1.parameters()), lr=1e-4)\n",
        "scheduler_ft1 = optim.lr_scheduler.StepLR(optimizer_ft1, step_size=7, gamma=0.1)\n",
        "\n",
        "# Train\n",
        "model_ft1, history_ft1 = train_model(model_ft1, criterion, optimizer_ft1, scheduler_ft1, num_epochs=10)\n",
        "\n",
        "# Save\n",
        "torch.save(model_ft1.state_dict(), \"resnet18_ft_layer1.pth\")\n",
        "print(\"Model saved as resnet18_ft_layer1.pth\")\n",
        "\n",
        "# Log results\n",
        "val_acc1 = max(history_ft1[3])   # validation accuracy history\n",
        "test_acc1 = evaluate_on_test(model_ft1, \"ResNet18_FT_Layer1\")\n",
        "results_log[\"ResNet18_FT_Layer1\"] = {\"val_acc\": val_acc1, \"test_acc\": test_acc1}\n",
        "\n",
        "# Also log scratch model (so we don't forget later)\n",
        "if \"ResNet18_Scratch\" not in results_log:\n",
        "    val_acc_scratch = max(history_scratch[3])\n",
        "    # evaluate scratch model on test set\n",
        "    test_acc_scratch = evaluate_on_test(model_scratch, \"ResNet18_Scratch\")\n",
        "    results_log[\"ResNet18_Scratch\"] = {\"val_acc\": val_acc_scratch, \"test_acc\": test_acc_scratch}\n",
        "\n",
        "print(\"\\nCurrent results log:\")\n",
        "print(results_log)"
      ],
      "metadata": {
        "colab": {
          "base_uri": "https://localhost:8080/"
        },
        "id": "OrAHjWVEIC_C",
        "outputId": "876e9b08-1f89-40fd-a9a3-fc56251691b5"
      },
      "execution_count": null,
      "outputs": [
        {
          "output_type": "stream",
          "name": "stdout",
          "text": [
            "Experiment 1: Freeze layer1 only\n",
            "Epoch 1/10\n",
            "--------------------\n",
            "train Loss: 1.1632 Acc: 0.5609\n",
            "val Loss: 1.0026 Acc: 0.6313\n",
            "\n",
            "Epoch 2/10\n",
            "--------------------\n",
            "train Loss: 0.8128 Acc: 0.7018\n",
            "val Loss: 0.9974 Acc: 0.6414\n",
            "\n",
            "Epoch 3/10\n",
            "--------------------\n",
            "train Loss: 0.5022 Acc: 0.8214\n",
            "val Loss: 1.1206 Acc: 0.6454\n",
            "\n",
            "Epoch 4/10\n",
            "--------------------\n",
            "train Loss: 0.2343 Acc: 0.9240\n",
            "val Loss: 1.2543 Acc: 0.6548\n",
            "\n",
            "Epoch 5/10\n",
            "--------------------\n",
            "train Loss: 0.1339 Acc: 0.9597\n",
            "val Loss: 1.4868 Acc: 0.6339\n",
            "\n",
            "Epoch 6/10\n",
            "--------------------\n",
            "train Loss: 0.1061 Acc: 0.9676\n",
            "val Loss: 1.5605 Acc: 0.6409\n",
            "\n",
            "Epoch 7/10\n",
            "--------------------\n",
            "train Loss: 0.0960 Acc: 0.9708\n",
            "val Loss: 1.6302 Acc: 0.6515\n",
            "\n",
            "Epoch 8/10\n",
            "--------------------\n",
            "train Loss: 0.0476 Acc: 0.9875\n",
            "val Loss: 1.4463 Acc: 0.6654\n",
            "\n",
            "Epoch 9/10\n",
            "--------------------\n",
            "train Loss: 0.0215 Acc: 0.9963\n",
            "val Loss: 1.4529 Acc: 0.6675\n",
            "\n",
            "Epoch 10/10\n",
            "--------------------\n",
            "train Loss: 0.0147 Acc: 0.9973\n",
            "val Loss: 1.4480 Acc: 0.6700\n",
            "\n",
            "Training complete in 13m 29s\n",
            "Best val Acc: 0.6700\n",
            "Model saved as resnet18_ft_layer1.pth\n",
            "ResNet18_FT_Layer1 -> Test Accuracy: 0.6672\n",
            "ResNet18_Scratch -> Test Accuracy: 0.5913\n",
            "\n",
            "Current results log:\n",
            "{'ResNet18_FT_Layer1': {'val_acc': 0.6699756182514803, 'test_acc': 0.6671774867651157}, 'ResNet18_Scratch': {'val_acc': 0.6041448972483455, 'test_acc': 0.5912510448592923}}\n"
          ]
        }
      ]
    },
    {
      "cell_type": "code",
      "source": [
        "# ----------------- Experiment 2 -----------------\n",
        "print(\"Experiment 2: Freeze layer1 + layer2\")\n",
        "\n",
        "model_ft2 = build_pretrained_model(freeze_layers=['layer1', 'layer2'])\n",
        "criterion = nn.CrossEntropyLoss()\n",
        "optimizer_ft2 = optim.Adam(filter(lambda p: p.requires_grad, model_ft2.parameters()), lr=1e-4)\n",
        "scheduler_ft2 = optim.lr_scheduler.StepLR(optimizer_ft2, step_size=7, gamma=0.1)\n",
        "\n",
        "model_ft2, history_ft2 = train_model(model_ft2, criterion, optimizer_ft2, scheduler_ft2, num_epochs=10)\n",
        "\n",
        "torch.save(model_ft2.state_dict(), \"resnet18_ft_layer1_layer2.pth\")\n",
        "print(\"Model saved as resnet18_ft_layer1_layer2.pth\")\n",
        "\n",
        "val_acc2 = max(history_ft2[3])\n",
        "test_acc2 = evaluate_on_test(model_ft2, \"ResNet18_FT_Layer1+2\")\n",
        "results_log[\"ResNet18_FT_Layer1+2\"] = {\"val_acc\": val_acc2, \"test_acc\": test_acc2}\n",
        "\n",
        "\n",
        "# ----------------- Experiment 3 -----------------\n",
        "print(\"\\nExperiment 3: Freeze layer1 + layer2 + layer3\")\n",
        "\n",
        "model_ft3 = build_pretrained_model(freeze_layers=['layer1', 'layer2', 'layer3'])\n",
        "criterion = nn.CrossEntropyLoss()\n",
        "optimizer_ft3 = optim.Adam(filter(lambda p: p.requires_grad, model_ft3.parameters()), lr=1e-4)\n",
        "scheduler_ft3 = optim.lr_scheduler.StepLR(optimizer_ft3, step_size=7, gamma=0.1)\n",
        "\n",
        "model_ft3, history_ft3 = train_model(model_ft3, criterion, optimizer_ft3, scheduler_ft3, num_epochs=10)\n",
        "\n",
        "torch.save(model_ft3.state_dict(), \"resnet18_ft_layer1_layer2_layer3.pth\")\n",
        "print(\"Model saved as resnet18_ft_layer1_layer2_layer3.pth\")\n",
        "\n",
        "val_acc3 = max(history_ft3[3])\n",
        "test_acc3 = evaluate_on_test(model_ft3, \"ResNet18_FT_Layer1+2+3\")\n",
        "results_log[\"ResNet18_FT_Layer1+2+3\"] = {\"val_acc\": val_acc3, \"test_acc\": test_acc3}\n",
        "\n",
        "\n",
        "# ----------------- Experiment 4 -----------------\n",
        "print(\"\\nExperiment 4: Freeze ALL convolutional layers (only FC trainable)\")\n",
        "\n",
        "# For freezing all: conv1, bn1, layer1–4\n",
        "model_ft4 = build_pretrained_model(freeze_layers=['layer1', 'layer2', 'layer3', 'layer4'])\n",
        "for param in model_ft4.conv1.parameters():\n",
        "    param.requires_grad = False\n",
        "for param in model_ft4.bn1.parameters():\n",
        "    param.requires_grad = False\n",
        "\n",
        "criterion = nn.CrossEntropyLoss()\n",
        "optimizer_ft4 = optim.Adam(filter(lambda p: p.requires_grad, model_ft4.parameters()), lr=1e-4)\n",
        "scheduler_ft4 = optim.lr_scheduler.StepLR(optimizer_ft4, step_size=7, gamma=0.1)\n",
        "\n",
        "model_ft4, history_ft4 = train_model(model_ft4, criterion, optimizer_ft4, scheduler_ft4, num_epochs=10)\n",
        "\n",
        "torch.save(model_ft4.state_dict(), \"resnet18_ft_all_frozen.pth\")\n",
        "print(\"Model saved as resnet18_ft_all_frozen.pth\")\n",
        "\n",
        "val_acc4 = max(history_ft4[3])\n",
        "test_acc4 = evaluate_on_test(model_ft4, \"ResNet18_FT_AllFrozen\")\n",
        "results_log[\"ResNet18_FT_AllFrozen\"] = {\"val_acc\": val_acc4, \"test_acc\": test_acc4}\n",
        "\n",
        "\n",
        "# ----------------- Print final log -----------------\n",
        "print(\"\\n===== Final Results Log =====\")\n",
        "for k, v in results_log.items():\n",
        "    print(f\"{k}: Val Acc={v['val_acc']:.4f}, Test Acc={v['test_acc']:.4f}\")\n"
      ],
      "metadata": {
        "colab": {
          "base_uri": "https://localhost:8080/"
        },
        "id": "KpMwVsmsLMNV",
        "outputId": "7a9e8205-e4b2-4f84-ad59-1e218e9f0fcf"
      },
      "execution_count": 33,
      "outputs": [
        {
          "output_type": "stream",
          "name": "stdout",
          "text": [
            "Experiment 2: Freeze layer1 + layer2\n",
            "Epoch 1/10\n",
            "--------------------\n",
            "train Loss: 1.1732 Acc: 0.5607\n",
            "val Loss: 1.0222 Acc: 0.6177\n",
            "\n",
            "Epoch 2/10\n",
            "--------------------\n",
            "train Loss: 0.8226 Acc: 0.6970\n",
            "val Loss: 1.0278 Acc: 0.6341\n",
            "\n",
            "Epoch 3/10\n",
            "--------------------\n",
            "train Loss: 0.4746 Acc: 0.8342\n",
            "val Loss: 1.1317 Acc: 0.6331\n",
            "\n",
            "Epoch 4/10\n",
            "--------------------\n",
            "train Loss: 0.1977 Acc: 0.9376\n",
            "val Loss: 1.3367 Acc: 0.6306\n",
            "\n",
            "Epoch 5/10\n",
            "--------------------\n",
            "train Loss: 0.1024 Acc: 0.9725\n",
            "val Loss: 1.5422 Acc: 0.6238\n",
            "\n",
            "Epoch 6/10\n",
            "--------------------\n",
            "train Loss: 0.0814 Acc: 0.9764\n",
            "val Loss: 1.6689 Acc: 0.6188\n",
            "\n",
            "Epoch 7/10\n",
            "--------------------\n",
            "train Loss: 0.0886 Acc: 0.9727\n",
            "val Loss: 1.6765 Acc: 0.6264\n",
            "\n",
            "Epoch 8/10\n",
            "--------------------\n",
            "train Loss: 0.0417 Acc: 0.9891\n",
            "val Loss: 1.5350 Acc: 0.6562\n",
            "\n",
            "Epoch 9/10\n",
            "--------------------\n",
            "train Loss: 0.0188 Acc: 0.9970\n",
            "val Loss: 1.5367 Acc: 0.6597\n",
            "\n",
            "Epoch 10/10\n",
            "--------------------\n",
            "train Loss: 0.0129 Acc: 0.9976\n",
            "val Loss: 1.5445 Acc: 0.6552\n",
            "\n",
            "Training complete in 12m 51s\n",
            "Best val Acc: 0.6597\n",
            "Model saved as resnet18_ft_layer1_layer2.pth\n",
            "ResNet18_FT_Layer1+2 -> Test Accuracy: 0.6549\n",
            "\n",
            "Experiment 3: Freeze layer1 + layer2 + layer3\n",
            "Epoch 1/10\n",
            "--------------------\n",
            "train Loss: 1.2473 Acc: 0.5285\n",
            "val Loss: 1.0758 Acc: 0.6010\n",
            "\n",
            "Epoch 2/10\n",
            "--------------------\n",
            "train Loss: 0.8640 Acc: 0.6850\n",
            "val Loss: 1.0657 Acc: 0.6008\n",
            "\n",
            "Epoch 3/10\n",
            "--------------------\n",
            "train Loss: 0.4699 Acc: 0.8428\n",
            "val Loss: 1.1950 Acc: 0.6029\n",
            "\n",
            "Epoch 4/10\n",
            "--------------------\n",
            "train Loss: 0.1690 Acc: 0.9541\n",
            "val Loss: 1.3899 Acc: 0.6263\n",
            "\n",
            "Epoch 5/10\n",
            "--------------------\n",
            "train Loss: 0.0818 Acc: 0.9808\n",
            "val Loss: 1.5138 Acc: 0.6132\n",
            "\n",
            "Epoch 6/10\n",
            "--------------------\n",
            "train Loss: 0.0665 Acc: 0.9849\n",
            "val Loss: 1.6152 Acc: 0.6129\n",
            "\n",
            "Epoch 7/10\n",
            "--------------------\n",
            "train Loss: 0.0730 Acc: 0.9792\n",
            "val Loss: 1.7799 Acc: 0.5930\n",
            "\n",
            "Epoch 8/10\n",
            "--------------------\n",
            "train Loss: 0.0396 Acc: 0.9904\n",
            "val Loss: 1.5930 Acc: 0.6412\n",
            "\n",
            "Epoch 9/10\n",
            "--------------------\n",
            "train Loss: 0.0193 Acc: 0.9965\n",
            "val Loss: 1.5680 Acc: 0.6418\n",
            "\n",
            "Epoch 10/10\n",
            "--------------------\n",
            "train Loss: 0.0138 Acc: 0.9973\n",
            "val Loss: 1.5953 Acc: 0.6458\n",
            "\n",
            "Training complete in 12m 19s\n",
            "Best val Acc: 0.6458\n",
            "Model saved as resnet18_ft_layer1_layer2_layer3.pth\n",
            "ResNet18_FT_Layer1+2+3 -> Test Accuracy: 0.6289\n",
            "\n",
            "Experiment 4: Freeze ALL convolutional layers (only FC trainable)\n",
            "Epoch 1/10\n",
            "--------------------\n",
            "train Loss: 1.7754 Acc: 0.2677\n",
            "val Loss: 1.6966 Acc: 0.3124\n",
            "\n",
            "Epoch 2/10\n",
            "--------------------\n",
            "train Loss: 1.6502 Acc: 0.3555\n",
            "val Loss: 1.6163 Acc: 0.3729\n",
            "\n",
            "Epoch 3/10\n",
            "--------------------\n",
            "train Loss: 1.5890 Acc: 0.3892\n",
            "val Loss: 1.5731 Acc: 0.3955\n",
            "\n",
            "Epoch 4/10\n",
            "--------------------\n",
            "train Loss: 1.5534 Acc: 0.4071\n",
            "val Loss: 1.5504 Acc: 0.3955\n",
            "\n",
            "Epoch 5/10\n",
            "--------------------\n",
            "train Loss: 1.5290 Acc: 0.4167\n",
            "val Loss: 1.5307 Acc: 0.4107\n",
            "\n",
            "Epoch 6/10\n",
            "--------------------\n",
            "train Loss: 1.5097 Acc: 0.4250\n",
            "val Loss: 1.5129 Acc: 0.4166\n",
            "\n",
            "Epoch 7/10\n",
            "--------------------\n",
            "train Loss: 1.4968 Acc: 0.4309\n",
            "val Loss: 1.5071 Acc: 0.4228\n",
            "\n",
            "Epoch 8/10\n",
            "--------------------\n",
            "train Loss: 1.4836 Acc: 0.4371\n",
            "val Loss: 1.5035 Acc: 0.4234\n",
            "\n",
            "Epoch 9/10\n",
            "--------------------\n",
            "train Loss: 1.4824 Acc: 0.4365\n",
            "val Loss: 1.5022 Acc: 0.4218\n",
            "\n",
            "Epoch 10/10\n",
            "--------------------\n",
            "train Loss: 1.4828 Acc: 0.4358\n",
            "val Loss: 1.5020 Acc: 0.4237\n",
            "\n",
            "Training complete in 10m 33s\n",
            "Best val Acc: 0.4237\n",
            "Model saved as resnet18_ft_all_frozen.pth\n",
            "ResNet18_FT_AllFrozen -> Test Accuracy: 0.4239\n",
            "\n",
            "===== Final Results Log =====\n",
            "ResNet18_FT_Layer1: Val Acc=0.6700, Test Acc=0.6672\n",
            "ResNet18_Scratch: Val Acc=0.6041, Test Acc=0.5913\n",
            "ResNet18_FT_Layer1+2: Val Acc=0.6597, Test Acc=0.6549\n",
            "ResNet18_FT_Layer1+2+3: Val Acc=0.6458, Test Acc=0.6289\n",
            "ResNet18_FT_AllFrozen: Val Acc=0.4237, Test Acc=0.4239\n"
          ]
        }
      ]
    },
    {
      "cell_type": "markdown",
      "source": [
        "Step 8: Comparison plots + results table"
      ],
      "metadata": {
        "id": "n28jnvwAXRim"
      }
    },
    {
      "cell_type": "code",
      "source": [
        "import matplotlib.pyplot as plt\n",
        "import pandas as pd\n",
        "\n",
        "# Convert results_log dict -> pandas DataFrame\n",
        "df_results = pd.DataFrame(results_log).T  # transpose\n",
        "df_results = df_results.sort_values(\"val_acc\", ascending=False)\n",
        "\n",
        "print(\"===== Final Results Table =====\")\n",
        "print(df_results)\n",
        "\n",
        "# Plot comparison bar chart\n",
        "plt.figure(figsize=(10,6))\n",
        "x = range(len(df_results))\n",
        "plt.bar([i-0.2 for i in x], df_results[\"val_acc\"], width=0.4, label=\"Val Acc\")\n",
        "plt.bar([i+0.2 for i in x], df_results[\"test_acc\"], width=0.4, label=\"Test Acc\")\n",
        "plt.xticks(x, df_results.index, rotation=25, ha=\"right\")\n",
        "plt.ylabel(\"Accuracy\")\n",
        "plt.title(\"Comparison of ResNet-18 Variants\")\n",
        "plt.legend()\n",
        "plt.show()"
      ],
      "metadata": {
        "id": "pQZCyG-6OoEt",
        "colab": {
          "base_uri": "https://localhost:8080/",
          "height": 597
        },
        "outputId": "bee88f87-3d96-446c-a508-a58fd495019b"
      },
      "execution_count": 35,
      "outputs": [
        {
          "output_type": "stream",
          "name": "stdout",
          "text": [
            "===== Final Results Table =====\n",
            "                         val_acc  test_acc\n",
            "ResNet18_FT_Layer1      0.669976  0.667177\n",
            "ResNet18_FT_Layer1+2    0.659700  0.654918\n",
            "ResNet18_FT_Layer1+2+3  0.645768  0.628866\n",
            "ResNet18_Scratch        0.604145  0.591251\n",
            "ResNet18_FT_AllFrozen   0.423720  0.423934\n"
          ]
        },
        {
          "output_type": "display_data",
          "data": {
            "text/plain": [
              "<Figure size 1000x600 with 1 Axes>"
            ],
            "image/png": "[encoded data removed]"
          },
          "metadata": {}
        }
      ]
    },
    {
      "cell_type": "markdown",
      "source": [
        "Step 9: Confusion matrix for the best-performing model\n"
      ],
      "metadata": {
        "id": "U8pds_hNXs20"
      }
    },
    {
      "cell_type": "code",
      "source": [
        "# Step 9: Confusion Matrix for ResNet18_FT_Layer1 only\n",
        "\n",
        "import seaborn as sns\n",
        "from sklearn.metrics import confusion_matrix, classification_report\n",
        "import matplotlib.pyplot as plt\n",
        "\n",
        "# Rebuild model (freeze layer1) to match saved checkpoint\n",
        "best_model = build_pretrained_model(freeze_layers=['layer1'])\n",
        "\n",
        "# Replace FC layer\n",
        "num_ftrs = best_model.fc.in_features\n",
        "best_model.fc = nn.Linear(num_ftrs, num_classes)\n",
        "\n",
        "# Load the saved weights\n",
        "best_model.load_state_dict(torch.load(\"resnet18_ft_layer1.pth\"))\n",
        "best_model = best_model.to(device)\n",
        "best_model.eval()\n",
        "\n",
        "# Collect predictions\n",
        "all_preds, all_labels = [], []\n",
        "with torch.no_grad():\n",
        "    for inputs, labels in test_loader:\n",
        "        inputs, labels = inputs.to(device), labels.to(device)\n",
        "        outputs = best_model(inputs)\n",
        "        _, preds = torch.max(outputs, 1)\n",
        "        all_preds.extend(preds.cpu().numpy())\n",
        "        all_labels.extend(labels.cpu().numpy())\n",
        "\n",
        "# Confusion Matrix\n",
        "cm = confusion_matrix(all_labels, all_preds)\n",
        "plt.figure(figsize=(8,6))\n",
        "sns.heatmap(cm, annot=True, fmt=\"d\", cmap=\"Blues\",\n",
        "            xticklabels=classes, yticklabels=classes)\n",
        "plt.xlabel(\"Predicted\")\n",
        "plt.ylabel(\"True\")\n",
        "plt.title(\"Confusion Matrix - ResNet18_FT_Layer1\")\n",
        "plt.show()\n",
        "\n",
        "# Classification Report\n",
        "print(\"\\nClassification Report for ResNet18_FT_Layer1:\")\n",
        "print(classification_report(all_labels, all_preds, target_names=classes))\n"
      ],
      "metadata": {
        "colab": {
          "base_uri": "https://localhost:8080/",
          "height": 827
        },
        "id": "NN3qhv0RXzIi",
        "outputId": "ae5e2ef3-5791-4e9b-b824-e7e03f912799"
      },
      "execution_count": 37,
      "outputs": [
        {
          "output_type": "display_data",
          "data": {
            "text/plain": [
              "<Figure size 800x600 with 2 Axes>"
            ],
            "image/png": "[encoded data removed]"
          },
          "metadata": {}
        },
        {
          "output_type": "stream",
          "name": "stdout",
          "text": [
            "\n",
            "Classification Report for ResNet18_FT_Layer1:\n",
            "              precision    recall  f1-score   support\n",
            "\n",
            "       angry       0.58      0.58      0.58       958\n",
            "   disgusted       0.76      0.57      0.65       111\n",
            "     fearful       0.55      0.46      0.50      1024\n",
            "       happy       0.86      0.86      0.86      1774\n",
            "     neutral       0.63      0.63      0.63      1233\n",
            "         sad       0.52      0.58      0.55      1247\n",
            "   surprised       0.78      0.81      0.79       831\n",
            "\n",
            "    accuracy                           0.67      7178\n",
            "   macro avg       0.67      0.64      0.65      7178\n",
            "weighted avg       0.67      0.67      0.67      7178\n",
            "\n"
          ]
        }
      ]
    },
    {
      "cell_type": "markdown",
      "source": [
        "#  Analysis of Results\n",
        "\n",
        "## 1. Model Performance Summary\n",
        "We trained and evaluated different variants of **ResNet-18** on the Emotion Detection dataset:\n",
        "\n",
        "| Model Variant              | Val Accuracy | Test Accuracy |\n",
        "|-----------------------------|--------------|---------------|\n",
        "| ResNet18 (Scratch)          | 60.4%        | 59.1%         |\n",
        "| ResNet18 (FT: Layer1)       | **67.0%**    | **66.7%**     |\n",
        "| ResNet18 (FT: Layer1+2)     | 65.9%        | 65.5%         |\n",
        "| ResNet18 (FT: Layer1+2+3)   | 64.6%        | 62.9%         |\n",
        "| ResNet18 (FT: All Frozen)   | 42.4%        | 42.4%         |\n",
        "\n",
        "**Key Observations:**\n",
        "- Training **from scratch** (no pretraining) performed the worst among fine-tuned models, achieving only ~59% test accuracy.  \n",
        "- **Fine-tuning with only `layer1` frozen** gave the **best performance (66.7% test accuracy)**.  \n",
        "- Freezing more layers (`layer1+2`, `layer1+2+3`) led to **slight drops in accuracy**, showing that allowing deeper layers to adapt helps.  \n",
        "- Freezing **all convolutional layers** and only training the final FC layer severely underperformed (~42%), since the model could not adapt enough to emotion-specific features.  \n",
        "\n",
        "---\n",
        "\n",
        "## 2. Confusion Matrix (Best Model: ResNet18_FT_Layer1)\n",
        "The confusion matrix shows how well the model distinguished between the 7 emotion classes:\n",
        "\n",
        "- Strong recognition for **Happy** and **Neutral** classes.  \n",
        "- Higher confusion between **Fearful, Sad, and Angry** emotions, which share visual similarities in facial expressions.  \n",
        "- **Disgusted** and **Surprised** were moderately well recognized but still showed overlaps with Angry/Happy.\n",
        "\n",
        "---\n",
        "\n",
        "## 3. Classification Report Insights\n",
        "- **Happy**: Highest precision and recall — easier to detect due to distinct facial cues.  \n",
        "- **Neutral**: Performed reasonably well but often confused with Sad.  \n",
        "- **Fearful vs Sad vs Angry**: Lower precision/recall — overlapping features make them harder to separate.  \n",
        "- **Disgusted**: Moderate performance, often confused with Angry.  \n",
        "- **Surprised**: Reasonably good detection, though sometimes misclassified as Happy.\n",
        "\n",
        "---\n",
        "\n",
        "## 4. Overall Conclusion\n",
        "- **Pretrained ResNet-18 with partial fine-tuning clearly outperforms training from scratch.**\n",
        "- Best tradeoff was freezing **only the first block (`layer1`)**, achieving ~67% test accuracy.  \n",
        "\n",
        "\n",
        "---\n"
      ],
      "metadata": {
        "id": "Nl39WUB4ZNGZ"
      }
    },
    {
      "cell_type": "code",
      "source": [],
      "metadata": {
        "id": "QJhNQyWzYy0n"
      },
      "execution_count": null,
      "outputs": []
    }
  ]
}